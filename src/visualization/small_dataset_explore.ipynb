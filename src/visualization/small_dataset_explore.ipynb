{
 "cells": [
  {
   "cell_type": "code",
   "execution_count": 2,
   "id": "compatible-thesaurus",
   "metadata": {},
   "outputs": [],
   "source": [
    "import numpy as np\n",
    "import pandas as pd\n",
    "import os\n",
    "import sys\n",
    "module_path = os.path.abspath(os.path.join('..'))\n",
    "sys.path.insert(1, module_path + '/src')\n",
    "\n",
    "import utility\n",
    "\n",
    "from math import ceil\n",
    "\n",
    "import matplotlib\n",
    "import matplotlib.pyplot as plt\n",
    "import seaborn as sns\n",
    "\n",
    "figure_path = module_path + '/figures/'\n",
    "\n",
    "sys.path.insert(1, module_path + '/src/')\n",
    "\n",
    "from matplotlib.font_manager import FontProperties\n",
    "font = FontProperties(fname = module_path + '/src/visualization/CharterRegular.ttf', size = 10, weight = 1000)\n",
    "font_small = FontProperties(fname = module_path + '/src/visualization/CharterRegular.ttf', size = 8, weight = 1000)\n",
    "colors = ['#F94144', '#90BE6D', '#577590','#F3722C', '#F8961E', '#F9844A', '#F9C74F', '#43AA8B', '#4D908E', '#277DA1']\n",
    "colors_opa = ['#F9414466', '#90BE6D66', '#57759066','#F3722C66', '#F8961E66',\n",
    "              '#F9844A66', '#F9C74F66', '#43AA8B66', '#4D908E66', '#277DA166']\n",
    "\n",
    "sns.set_palette(sns.color_palette(colors))\n",
    "\n",
    "def znorm(timeseries):\n",
    "    mean = np.mean(timeseries)\n",
    "    sd = np.std(timeseries)\n",
    "    return (timeseries - mean)/sd\n",
    "\n",
    "target_rate = 44100\n",
    "ds_target_rate = 8000\n",
    "\n",
    "import os\n",
    "names = []\n",
    "files_path = module_path + '/data/minimal_dataset/data/'\n",
    "names_full = os.listdir(files_path)\n",
    "for n in names_full:\n",
    "    if '_lungelyd_' in n:\n",
    "        names.append(n)\n",
    "        \n",
    "X = pd.read_csv(module_path + '/data/minimal_dataset/info.csv')\n",
    "del names_full"
   ]
  },
  {
   "cell_type": "code",
   "execution_count": 6,
   "id": "provincial-livestock",
   "metadata": {
    "scrolled": true
   },
   "outputs": [
    {
     "data": {
      "text/plain": [
       "632"
      ]
     },
     "execution_count": 6,
     "metadata": {},
     "output_type": "execute_result"
    }
   ],
   "source": [
    "len(X['patient_id'].unique())"
   ]
  },
  {
   "cell_type": "code",
   "execution_count": 9,
   "id": "enhanced-plymouth",
   "metadata": {},
   "outputs": [
    {
     "data": {
      "image/png": "[encoded data removed]",
      "text/plain": [
       "<Figure size 432x216 with 1 Axes>"
      ]
     },
     "metadata": {
      "needs_background": "light"
     },
     "output_type": "display_data"
    }
   ],
   "source": [
    "def without_hue(plot, feature, filename):\n",
    "    total = len(feature)\n",
    "    \n",
    "    for p in ax.patches:\n",
    "        percentage = '{:.2f}%'.format(100 * p.get_height()/total)\n",
    "        x = p.get_x() + p.get_width() / 2 - 0.25\n",
    "        y = p.get_y() + p.get_height() + 5\n",
    "        ax.annotate(percentage, (x, y), fontproperties = font)\n",
    "    \n",
    "    plt.savefig(filename, bbox_inches='tight')\n",
    "    \n",
    "    \n",
    "f, ax = plt.subplots(1,1)\n",
    "f.set_size_inches(6, 3)\n",
    "ax = sns.countplot(x = 'label', data = X)\n",
    "ax.set_ylabel('Count', fontproperties = font)\n",
    "ax.set_xlabel('Abnormality', fontproperties = font)\n",
    "for label in ax.get_yticklabels() :\n",
    "    label.set_fontproperties(font_small)\n",
    "for label in ax.get_xticklabels() :\n",
    "    label.set_fontproperties(font_small)\n",
    "    #name = label.get_text()\n",
    "    #new_label = str(new_names[name])\n",
    "    #new_labels.append(new_label)\n",
    "\n",
    "ax.set_xticklabels(['Normal', 'crackle', 'wheeze'])\n",
    "#ax.grid(linewidth = 0.3)\n",
    "for axis in ['top','bottom','left','right']:\n",
    "    ax.spines[axis].set_linewidth(0.5)\n",
    "count = 0\n",
    "for child in ax.get_children():\n",
    "    if type(child) == matplotlib.patches.Rectangle:\n",
    "        count = count + 1\n",
    "        \n",
    "        if (count == 1):\n",
    "            child.set_color(colors_opa[1])\n",
    "        elif (count == 2):\n",
    "            child.set_color(colors_opa[0])\n",
    "        elif (count == 3):\n",
    "            child.set_color(colors_opa[3])\n",
    "\n",
    "\n",
    "without_hue(ax,X.label , figure_path + \"histoLabels_compressed_dataset.pdf\" )  "
   ]
  }
 ],
 "metadata": {
  "kernelspec": {
   "display_name": "Python 3",
   "language": "python",
   "name": "python3"
  },
  "language_info": {
   "codemirror_mode": {
    "name": "ipython",
    "version": 3
   },
   "file_extension": ".py",
   "mimetype": "text/x-python",
   "name": "python",
   "nbconvert_exporter": "python",
   "pygments_lexer": "ipython3",
   "version": "3.7.9"
  }
 },
 "nbformat": 4,
 "nbformat_minor": 5
}
