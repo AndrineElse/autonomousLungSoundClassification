{
 "cells": [
  {
   "cell_type": "markdown",
   "metadata": {},
   "source": [
    "# Plotting the f1 and accuracy score of different syntetic datasets"
   ]
  },
  {
   "cell_type": "code",
   "execution_count": 17,
   "metadata": {},
   "outputs": [],
   "source": [
    "import sys\n",
    "import os\n",
    "import pandas as pd\n",
    "import numpy as np\n",
    "\n",
    "module_path = os.path.abspath(os.path.join('../..'))\n",
    "\n",
    "sys.path.insert(1, module_path + '/src')\n",
    "import utility\n",
    "\n",
    "sys.path.insert(1, module_path + '/src/models/')\n",
    "import helper\n",
    "\n",
    "import matplotlib.pyplot as plt\n",
    "from matplotlib.font_manager import FontProperties\n",
    "import matplotlib\n",
    "import matplotlib.pyplot as plt\n",
    "\n",
    "figure_path = module_path + '/figures/'\n",
    "\n",
    "length_window = 15"
   ]
  },
  {
   "cell_type": "code",
   "execution_count": 18,
   "metadata": {},
   "outputs": [],
   "source": [
    "import pickle\n",
    "\n",
    "# Frequency Scores\n",
    "\n",
    "with open(module_path + f'/src/visualization/synthetic_increase_acc_f1/acc_freqs_{length_window}_newCNN.pkl', 'rb') as f:\n",
    "    acc_freq = pickle.load(f)\n",
    "    \n",
    "with open(module_path + f'/src/visualization/synthetic_increase_acc_f1/f1_freqs_{length_window}_newCNN.pkl', 'rb') as f:\n",
    "    f1_freq = pickle.load(f)\n",
    "\n",
    "\n",
    "# Amplitude Scores\n",
    "\n",
    "with open(module_path + f'/src/visualization/synthetic_increase_acc_f1/acc_ampls_{length_window}_newCNN.pkl', 'rb') as f:\n",
    "    acc_ampl = pickle.load(f)\n",
    "    \n",
    "with open(module_path + f'/src/visualization/synthetic_increase_acc_f1/f1_ampls_{length_window}_newCNN.pkl', 'rb') as f:\n",
    "    f1_ampl = pickle.load(f)\n",
    "\n",
    "\n",
    "# Duration scores \n",
    "with open(module_path + f'/src/visualization/synthetic_increase_acc_f1/acc_durs_{length_window}_newCNN.pkl', 'rb') as f:\n",
    "    acc_dur = pickle.load(f)\n",
    "    \n",
    "with open(module_path + f'/src/visualization/synthetic_increase_acc_f1/f1_durs_{length_window}_newCNN.pkl', 'rb') as f:\n",
    "    f1_dur = pickle.load(f)\n",
    "    \n",
    "    \n",
    "freqs = np.linspace(100, 2000, 10).astype(int)\n",
    "ampls = np.linspace(0.5, 10, 10)\n",
    "durs = np.linspace(0.01, 0.2, 10)"
   ]
  },
  {
   "cell_type": "code",
   "execution_count": 24,
   "metadata": {},
   "outputs": [
    {
     "data": {
      "image/png": "[encoded data removed]",
      "text/plain": [
       "<Figure size 432x72 with 1 Axes>"
      ]
     },
     "metadata": {
      "needs_background": "light"
     },
     "output_type": "display_data"
    }
   ],
   "source": [
    "font = FontProperties(fname = module_path + '/src/visualization/CharterRegular.ttf', size = 10, weight = 1000)\n",
    "font_small = FontProperties(fname = module_path + '/src/visualization/CharterRegular.ttf', size = 8, weight = 1000)\n",
    "colors = ['#F94144', '#90BE6D', '#577590','#F3722C', '#F8961E', '#F9844A', '#F9C74F', '#43AA8B', '#4D908E', '#277DA1']\n",
    "colors_opa = ['#F9414466', '#90BE6D66', '#57759066','#F3722C66', '#F8961E66',\n",
    "              '#F9844A66', '#F9C74F66', '#43AA8B66', '#4D908E66', '#277DA166']\n",
    "\n",
    "f, ax = plt.subplots(1,1)\n",
    "f.set_size_inches(6, 1)\n",
    "\n",
    "\n",
    "ax.plot(durs, acc_dur, c = colors[3], label = 'Accuracy', linewidth = 1.5)\n",
    "ax.plot(durs, f1_dur, c = colors[7], label = 'F1 score', linewidth = 1.5)\n",
    "\n",
    "\n",
    "ax.set_ylabel('Performance', fontproperties = font)\n",
    "ax.set_xlabel('Duration of synthetic abnormality [s]', fontproperties = font)\n",
    "\n",
    "\n",
    "for label in ax.get_yticklabels() :\n",
    "    label.set_fontproperties(font_small)\n",
    "for label in ax.get_xticklabels() :\n",
    "    label.set_fontproperties(font_small)\n",
    "for axis in ['top','bottom','left','right']:\n",
    "    ax.spines[axis].set_linewidth(0.5)\n",
    "    \n",
    "ax.legend(prop = font, loc = 2)\n",
    "ax.set_ylim(0.0,1.05)\n",
    "\n",
    "plt.savefig(figure_path + f'duration_synthetic_increase_performance_{length_window}s.pdf', bbox_inches='tight')"
   ]
  },
  {
   "cell_type": "code",
   "execution_count": 23,
   "metadata": {
    "scrolled": true
   },
   "outputs": [
    {
     "data": {
      "image/png": "[encoded data removed]",
      "text/plain": [
       "<Figure size 432x72 with 1 Axes>"
      ]
     },
     "metadata": {
      "needs_background": "light"
     },
     "output_type": "display_data"
    }
   ],
   "source": [
    "font = FontProperties(fname = module_path + '/src/visualization/CharterRegular.ttf', size = 10, weight = 1000)\n",
    "font_small = FontProperties(fname = module_path + '/src/visualization/CharterRegular.ttf', size = 8, weight = 1000)\n",
    "colors = ['#F94144', '#90BE6D', '#577590','#F3722C', '#F8961E', '#F9844A', '#F9C74F', '#43AA8B', '#4D908E', '#277DA1']\n",
    "colors_opa = ['#F9414466', '#90BE6D66', '#57759066','#F3722C66', '#F8961E66',\n",
    "              '#F9844A66', '#F9C74F66', '#43AA8B66', '#4D908E66', '#277DA166']\n",
    "\n",
    "f, ax = plt.subplots(1,1)\n",
    "f.set_size_inches(6, 1)\n",
    "\n",
    "\n",
    "ax.plot(freqs, acc_freq, c = colors[3], label = 'Accuracy', linewidth = 1.5)\n",
    "ax.plot(freqs, f1_freq, c = colors[7], label = 'F1 score', linewidth = 1.5)\n",
    "\n",
    "\n",
    "ax.set_ylabel('Performance', fontproperties = font)\n",
    "ax.set_xlabel('Frequency of synthetic abnormality [Hz]', fontproperties = font)\n",
    "\n",
    "\n",
    "for label in ax.get_yticklabels() :\n",
    "    label.set_fontproperties(font_small)\n",
    "for label in ax.get_xticklabels() :\n",
    "    label.set_fontproperties(font_small)\n",
    "for axis in ['top','bottom','left','right']:\n",
    "    ax.spines[axis].set_linewidth(0.5)\n",
    "ax.set_ylim(0.0,1.05)\n",
    "ax.legend(prop = font, loc = 2)\n",
    "\n",
    "plt.savefig(figure_path + f'frequency_synthetic_increase_performance_{length_window}s.pdf', bbox_inches='tight')"
   ]
  },
  {
   "cell_type": "code",
   "execution_count": 22,
   "metadata": {},
   "outputs": [
    {
     "data": {
      "image/png": "[encoded data removed]",
      "text/plain": [
       "<Figure size 432x72 with 1 Axes>"
      ]
     },
     "metadata": {
      "needs_background": "light"
     },
     "output_type": "display_data"
    }
   ],
   "source": [
    "font = FontProperties(fname = module_path + '/src/visualization/CharterRegular.ttf', size = 10, weight = 1000)\n",
    "font_small = FontProperties(fname = module_path + '/src/visualization/CharterRegular.ttf', size = 8, weight = 1000)\n",
    "colors = ['#F94144', '#90BE6D', '#577590','#F3722C', '#F8961E', '#F9844A', '#F9C74F', '#43AA8B', '#4D908E', '#277DA1']\n",
    "colors_opa = ['#F9414466', '#90BE6D66', '#57759066','#F3722C66', '#F8961E66',\n",
    "              '#F9844A66', '#F9C74F66', '#43AA8B66', '#4D908E66', '#277DA166']\n",
    "\n",
    "f, ax = plt.subplots(1,1)\n",
    "f.set_size_inches(6, 1)\n",
    "\n",
    "\n",
    "ax.plot(ampls, acc_ampl, c = colors[3], label = 'Accuracy', linewidth = 1.5)\n",
    "ax.plot(ampls, f1_ampl, c = colors[7], label = 'F1 score', linewidth = 1.5)\n",
    "\n",
    "\n",
    "ax.set_ylabel('Performance', fontproperties = font)\n",
    "ax.set_xlabel('Amplitude of synthetic abnormality', fontproperties = font)\n",
    "\n",
    "\n",
    "for label in ax.get_yticklabels() :\n",
    "    label.set_fontproperties(font_small)\n",
    "for label in ax.get_xticklabels() :\n",
    "    label.set_fontproperties(font_small)\n",
    "for axis in ['top','bottom','left','right']:\n",
    "    ax.spines[axis].set_linewidth(0.5)\n",
    "    \n",
    "ax.set_ylim(0.0,1.05)\n",
    "    \n",
    "ax.legend(prop = font, loc = 2)\n",
    "\n",
    "plt.savefig(figure_path + f'amplitude_synthetic_increase_performance_{length_window}s.pdf', bbox_inches='tight')"
   ]
  }
 ],
 "metadata": {
  "kernelspec": {
   "display_name": "Python 3",
   "language": "python",
   "name": "python3"
  },
  "language_info": {
   "codemirror_mode": {
    "name": "ipython",
    "version": 3
   },
   "file_extension": ".py",
   "mimetype": "text/x-python",
   "name": "python",
   "nbconvert_exporter": "python",
   "pygments_lexer": "ipython3",
   "version": "3.7.0"
  }
 },
 "nbformat": 4,
 "nbformat_minor": 4
}
