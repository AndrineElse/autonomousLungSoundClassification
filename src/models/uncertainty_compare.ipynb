{
 "cells": [
  {
   "cell_type": "markdown",
   "metadata": {},
   "source": [
    "# Notebook for testing Monte Carlo Dropout \n",
    "\n",
    "https://towardsdatascience.com/monte-carlo-dropout-7fd52f8b6571"
   ]
  },
  {
   "cell_type": "code",
   "execution_count": 1,
   "metadata": {},
   "outputs": [],
   "source": [
    "import sys\n",
    "import os\n",
    "import pandas as pd\n",
    "import numpy as np\n",
    "\n",
    "module_path = os.path.abspath(os.path.join('../..'))\n",
    "\n",
    "sys.path.insert(1, module_path + '/src')\n",
    "import audio_time_series_classification as preproject\n",
    "import utility\n",
    "\n",
    "sys.path.insert(1, module_path + '/src/models/')\n",
    "import helper\n",
    "import librosa\n",
    "from sklearn.decomposition import PCA\n",
    "from sktime.utils.data_io import load_from_tsfile_to_dataframe\n",
    "from sklearn.feature_selection import SelectKBest, chi2\n",
    "from sktime.utils.data_processing import from_nested_to_2d_array\n",
    "from sklearn.model_selection import train_test_split\n",
    "from sklearn import preprocessing\n",
    "from sklearn.gaussian_process import GaussianProcessClassifier\n",
    "from sklearn.gaussian_process.kernels import RBF\n",
    "import matplotlib.pyplot as plt\n",
    "from sklearn.cross_decomposition import PLSRegression\n",
    "from sklearn.metrics import classification_report\n",
    "\n",
    "\n",
    "\n",
    "from sklearn import preprocessing\n",
    "from keras.utils import np_utils\n",
    "import keras\n",
    "from time import time\n",
    "\n",
    "figure_path = module_path + '/figures/'\n",
    "\n",
    "from keras.models import Model\n",
    "from sklearn import metrics\n",
    "from scipy.special import entr\n",
    "\n",
    "from sklearn.utils import shuffle\n",
    "import pickle\n",
    "from keras.layers import Input, Dense, Dropout\n",
    "from keras.models import Model\n",
    "from keras.models import Sequential\n",
    "from keras.layers import Conv1D, ZeroPadding1D, MaxPooling1D, BatchNormalization, Activation, Dropout, Flatten, Dense\n",
    "\n",
    "from sklearn.preprocessing import MinMaxScaler\n",
    "\n",
    "plot_label = 'noise'\n",
    "n_classes = 2"
   ]
  },
  {
   "cell_type": "markdown",
   "metadata": {},
   "source": [
    "# Importing dataset"
   ]
  },
  {
   "cell_type": "code",
   "execution_count": 2,
   "metadata": {},
   "outputs": [],
   "source": [
    "X_train, y_train_ = load_from_tsfile_to_dataframe(module_path + f'/data/ts_files/minimal_dataset_{n_classes}class_TRAIN.ts')\n",
    "X_test, y_test_ = load_from_tsfile_to_dataframe(module_path + f'/data/ts_files/minimal_dataset_{n_classes}class_TEST.ts')\n",
    "X_val, y_val_ = load_from_tsfile_to_dataframe(module_path + f'/data/ts_files/minimal_dataset_{n_classes}class_VAL.ts')\n",
    "\n",
    "X_train, y_train_= shuffle(X_train, y_train_, random_state = 42)\n",
    "\n",
    "X_train, X_test, X_val = from_nested_to_2d_array(X_train), from_nested_to_2d_array(X_test), from_nested_to_2d_array(X_val)\n",
    "\n",
    "cols = np.arange(len(X_test.columns))\n",
    "X_train.columns, X_test.columns, X_val.columns = cols, cols, cols\n",
    "\n",
    "y_train_, y_test_, y_val_ = pd.Series(y_train_), pd.Series(y_test_), pd.Series(y_val_)\n",
    "X_train = X_train.to_numpy()\n",
    "X_test = X_test.to_numpy()\n",
    "X_val = X_val.to_numpy()\n",
    "\n",
    "X_train, y_train_= shuffle(X_train, y_train_, random_state = 42)\n",
    "X_val, y_val_= shuffle(X_val, y_val_, random_state = 42)\n",
    "\n",
    "scaler = MinMaxScaler()\n",
    "scaler.fit(X_train)\n",
    "\n",
    "X_train = scaler.transform(X_train)\n",
    "X_test = scaler.transform(X_test)\n",
    "X_val = scaler.transform(X_val)\n",
    "\n",
    "X_train = X_train.reshape(X_train.shape[0],X_train.shape[1], 1)\n",
    "X_test = X_test.reshape(X_test.shape[0],X_test.shape[1], 1)\n",
    "X_val = X_val.reshape(X_val.shape[0],X_val.shape[1], 1)\n",
    "\n",
    "le = preprocessing.LabelEncoder()\n",
    "\n",
    "le.fit(y_train_)\n",
    "num_classes = len(le.classes_)\n",
    "y_train = le.transform(y_train_)\n",
    "y_test = le.transform(y_test_)\n",
    "y_val = le.transform(y_val_)\n",
    "\n",
    "y_train = np_utils.to_categorical(y_train, num_classes = num_classes)\n",
    "y_test = np_utils.to_categorical(y_test, num_classes = num_classes)\n",
    "y_val = np_utils.to_categorical(y_val, num_classes = num_classes)"
   ]
  },
  {
   "cell_type": "markdown",
   "metadata": {},
   "source": [
    "# Using dropout with CNN to measure model uncertainty\n",
    "\n"
   ]
  },
  {
   "cell_type": "code",
   "execution_count": 3,
   "metadata": {},
   "outputs": [],
   "source": [
    "def predict_proba(X, model, num_samples):\n",
    "    preds = [model(X, training=True) for _ in range(num_samples)]\n",
    "    return np.stack(preds).mean(axis=0)\n",
    "     \n",
    "def predict_class(X, model, num_samples):\n",
    "    proba_preds = predict_proba(X, model, num_samples)\n",
    "    return np.argmax(proba_preds, axis=1), proba_preds\n",
    "\n",
    "def ECE_score(y_test, y_prob,  n_bins=10):\n",
    "    #py = np.array(py)\n",
    "    #y_test = np.array(y_test)\n",
    "    if y_test.ndim > 1: # If y_test is a one-hot vector\n",
    "        y_test = np.argmax(y_test, axis=1)\n",
    "    py_index = np.argmax(y_prob, axis=1)\n",
    "    py_value = []\n",
    "    for i in range(y_prob.shape[0]):\n",
    "        py_value.append(y_prob[i, py_index[i]])\n",
    "    py_value = np.array(py_value)\n",
    "    acc, conf = np.zeros(n_bins), np.zeros(n_bins)\n",
    "    Bm = np.zeros(n_bins)\n",
    "    for m in range(n_bins):\n",
    "        a, b = m / n_bins, (m + 1) / n_bins\n",
    "        for i in range(y_prob.shape[0]):\n",
    "            if py_value[i] > a and py_value[i] <= b:\n",
    "                Bm[m] += 1\n",
    "                if py_index[i] == y_test[i]:\n",
    "                    acc[m] += 1\n",
    "                conf[m] += py_value[i]\n",
    "        if Bm[m] != 0:\n",
    "            acc[m] = acc[m] / Bm[m]\n",
    "            conf[m] = conf[m] / Bm[m]\n",
    "    ece = 0\n",
    "    for m in range(n_bins):\n",
    "        ece += Bm[m] * np.abs((acc[m] - conf[m]))\n",
    "    return ece / sum(Bm)\n",
    "\n",
    "def get_accuracy_confidence_curve(y_test, y_pred, prob):\n",
    "    limits = np.linspace(0.5, 0.95, 10)\n",
    "    ms = []\n",
    "    for n in limits:\n",
    "        indices = np.where(prob> n)[0]\n",
    "        m = metrics.accuracy_score(y_test[indices],y_pred[indices])\n",
    "        ms.append(m)\n",
    "    return ms, limits\n",
    "\n",
    "def count_region(bottom, top, probs):\n",
    "    b = (probs < top) & (probs >= bottom)\n",
    "    return np.sum(b)\n",
    "\n",
    "def get_count_cuve(y_prob):\n",
    "    regions = np.linspace(0, 1.0001, 11)\n",
    "    counts = []\n",
    "    for r in regions:\n",
    "        counts.append(count_region(r, r + 0.1, y_prob))\n",
    "    return counts\n",
    "\n",
    "class MonteCarloDropout(keras.layers.Dropout):\n",
    "    def call(self, inputs):\n",
    "        return super().call(inputs, training=True)\n",
    "    \n",
    "def manipulate_noise(data, noise_factor, random_state):\n",
    "    np.random.seed(seed=random_state)\n",
    "    noise = np.random.randn(len(data))\n",
    "    #print(noise)\n",
    "    augmented_data = data + noise_factor * noise\n",
    "    # Cast back to same data type\n",
    "    augmented_data = augmented_data.astype(type(data[0]))\n",
    "    return augmented_data\n",
    "\n",
    "def manipulate_pitch(data, sampling_rate, pitch_factor):\n",
    "    return librosa.effects.pitch_shift(data, sampling_rate, pitch_factor)\n",
    "\n",
    "def manipulate_shift(data, shift_factor):\n",
    "    return np.array([(x + shift_factor*np.var(x)) for (i,x) in enumerate(data)])\n",
    "\n",
    "pitch_Xs = []\n",
    "\n",
    "\n",
    "pitch_factor = np.linspace(1, 30, 5)\n",
    "for pitch in pitch_factor:\n",
    "    X_test = X_test.reshape(X_test.shape[0],X_test.shape[1])\n",
    "    X_test_noise = np.array([manipulate_pitch(x, 8000, pitch) for x in X_test])\n",
    "    \n",
    "    X_test_noise = X_test_noise.reshape(X_test_noise.shape[0],X_test_noise.shape[1], 1)\n",
    "    X_test = X_test.reshape(X_test.shape[0],X_test.shape[1], 1)\n",
    "    pitch_Xs.append(X_test_noise)\n",
    "    \n",
    "    \n",
    "noise_Xs = []\n",
    "\n",
    "noise_factor = np.linspace(0.0001, 0.1, 5)\n",
    "for noise in noise_factor:\n",
    "    X_test = X_test.reshape(X_test.shape[0],X_test.shape[1])\n",
    "    X_test_noise = np.array([manipulate_noise(x, noise,i) for (i,x) in enumerate(X_test)])\n",
    "    \n",
    "    X_test_noise = X_test_noise.reshape(X_test_noise.shape[0],X_test_noise.shape[1], 1)\n",
    "    X_test = X_test.reshape(X_test.shape[0],X_test.shape[1], 1)\n",
    "    noise_Xs.append(X_test_noise)\n",
    "    \n",
    "    \n",
    "shift_Xs = []\n",
    "\n",
    "shift_factor = np.linspace(2, 15, 5)\n",
    "for shift in shift_factor:\n",
    "    X_test = X_test.reshape(X_test.shape[0],X_test.shape[1])\n",
    "    X_test_noise = manipulate_shift(X_test, shift)\n",
    "    \n",
    "    X_test_noise = X_test_noise.reshape(X_test_noise.shape[0],X_test_noise.shape[1], 1)\n",
    "    X_test = X_test.reshape(X_test.shape[0],X_test.shape[1], 1)\n",
    "    shift_Xs.append(X_test_noise)\n",
    "    \n",
    "plot_factor = {\n",
    "    'pitch': pitch_Xs,\n",
    "    'noise' : noise_Xs,\n",
    "    'shift' : shift_Xs\n",
    "}\n",
    "\n",
    "factors = {\n",
    "    'pitch': pitch_factor,\n",
    "    'noise' : noise_factor,\n",
    "    'shift' : shift_factor\n",
    "}"
   ]
  },
  {
   "cell_type": "markdown",
   "metadata": {},
   "source": [
    "# Deep ensemble model\n"
   ]
  },
  {
   "cell_type": "code",
   "execution_count": 7,
   "metadata": {},
   "outputs": [],
   "source": [
    "from tensorflow import math\n",
    "from keras import backend as K\n",
    "from keras.layers import Input, Dense, Layer, Dropout, Conv1D, Flatten, MaxPooling1D\n",
    "from keras.models import Model\n",
    "from keras.initializers import glorot_normal\n",
    "from tensorflow.python.framework.ops import disable_eager_execution\n",
    "disable_eager_execution()\n",
    "\n",
    "\n",
    "def custom_loss(sigma):\n",
    "    def gaussian_loss(y_true, y_pred):\n",
    "        fir = 0.5*math.log(sigma)\n",
    "        sec = 0.5*math.divide(math.square(y_true - y_pred), sigma)\n",
    "        res = math.reduce_mean(fir + sec, axis = -1) + 1e-6\n",
    "        return res\n",
    "    return gaussian_loss\n",
    "\n",
    "\n",
    "\n",
    "class GaussianLayer(Layer):\n",
    "    def __init__(self, output_dim, **kwargs):\n",
    "        self.output_dim = output_dim\n",
    "        super(GaussianLayer, self).__init__(**kwargs)\n",
    "    def build(self, input_shape):\n",
    "        self.kernel_1 = self.add_weight(name='kernel_1', \n",
    "                                      shape=(1500, self.output_dim),\n",
    "                                      initializer=glorot_normal(),\n",
    "                                      trainable=True)\n",
    "        self.kernel_2 = self.add_weight(name='kernel_2', \n",
    "                                      shape=(1500, self.output_dim),\n",
    "                                      initializer=glorot_normal(),\n",
    "                                      trainable=True)\n",
    "        self.bias_1 = self.add_weight(name='bias_1',\n",
    "                                    shape=(self.output_dim, ),\n",
    "                                    initializer=glorot_normal(),\n",
    "                                    trainable=True)\n",
    "        self.bias_2 = self.add_weight(name='bias_2',\n",
    "                                    shape=(self.output_dim, ),\n",
    "                                    initializer=glorot_normal(),\n",
    "                                    trainable=True)\n",
    "        super(GaussianLayer, self).build(input_shape) \n",
    "    def call(self, x):\n",
    "        #print(self.kernel_1.shape)\n",
    "        output_mu  = K.dot(x, self.kernel_1) + self.bias_1\n",
    "        output_sig = K.dot(x, self.kernel_2) + self.bias_2\n",
    "        output_sig_pos = K.log(1 + K.exp(output_sig)) + 1e-06  \n",
    "       \n",
    "        return [output_mu, output_sig_pos]\n",
    "    \n",
    "    def compute_output_shape(self, input_shape):\n",
    "        \n",
    "        return [(input_shape[0], self.output_dim), (input_shape[0], self.output_dim)]\n",
    "    \n",
    "\n",
    "def create_trained_network(X_train, y_train, X_val, y_val):\n",
    "    input_shape=(X_train.shape[1], 1)\n",
    "\n",
    "    inputs = Input(shape=input_shape)\n",
    "    x = Conv1D(filters=50, kernel_size=6, activation='relu', input_shape=input_shape)(inputs)\n",
    "    x = MaxPooling1D(pool_size=50)(x)\n",
    "    x = Conv1D(filters=50, kernel_size=6, activation='relu' ,  padding=\"same\")(x)\n",
    "    x = Flatten()(x)\n",
    "    x = Dropout(0.25)(x)\n",
    "    x = Dense(1500, activation='relu')(x)\n",
    "    x = Dropout(0.25)(x)\n",
    "    mu, sigma = GaussianLayer(num_classes, name='main_output')(x)\n",
    "    model = Model(inputs, mu)\n",
    "    model.compile(loss=custom_loss(sigma), optimizer='adam')\n",
    "    model.fit(X_train, y_train, epochs=100, batch_size = 100, verbose = 0, validation_data = (X_val, y_val))\n",
    "    layer_name = 'main_output' # Where to extract the output from\n",
    "    get_intermediate = K.function(inputs=[model.input], outputs=model.get_layer(layer_name).output)\n",
    "    return get_intermediate\n",
    "\n",
    "def get_deep_ensemble_pred_prob(X_test, prediction_fns):\n",
    "    probs, sigmas = [], [] \n",
    "    for j in range(len(X_test)):\n",
    "        probs_curr, sigmas_curr = [], []\n",
    "        for i in range(len(prediction_fns)):\n",
    "            probs_curr.append(prediction_fns[i](np.array([X_test[j]]))[0])\n",
    "            sigmas_curr.append(prediction_fns[i](np.array([X_test[j]]))[1])\n",
    "\n",
    "\n",
    "        probs_curr = np.array(probs_curr)\n",
    "        sigmas_curr = np.array(sigmas_curr)\n",
    "        #print(np.mean(preds_curr, axis = 0))\n",
    "        #sigmas.append(np.sqrt(np.mean(sigmas_curr + np.square(preds_curr), axis = 0) - np.square(preds_curr)))\n",
    "        probs.append(np.mean(probs_curr, axis = 0)[0])\n",
    "        \n",
    "    probs = np.array(probs)    \n",
    "    y_pred = np.argmax(probs, axis = 1)\n",
    "    return y_pred, probs\n",
    "\n",
    "def get_prediction_fns(num_ensembles, X_train,y_train,X_val,y_val):\n",
    "    prediction_fns = []\n",
    "    for i in range(num_ensembles):\n",
    "        prediction_fns.append(create_trained_network(X_train, y_train, X_val, y_val))\n",
    "    return prediction_fns"
   ]
  },
  {
   "cell_type": "code",
   "execution_count": 8,
   "metadata": {},
   "outputs": [
    {
     "name": "stderr",
     "output_type": "stream",
     "text": [
      "/home/andrine/anaconda3/lib/python3.7/site-packages/tensorflow/python/keras/engine/training.py:2325: UserWarning: `Model.state_updates` will be removed in a future version. This property should not be used in TensorFlow 2.0, as `updates` are applied automatically.\n",
      "  warnings.warn('`Model.state_updates` will be removed in a future version. '\n"
     ]
    },
    {
     "name": "stdout",
     "output_type": "stream",
     "text": [
      "Time utilized = 1065.3125884532928\n"
     ]
    }
   ],
   "source": [
    "start = time()\n",
    "\n",
    "prediction_fns = get_prediction_fns(10, X_train,y_train,X_val,y_val)\n",
    "\n",
    "print(f'Time utilized = {time() - start}')"
   ]
  },
  {
   "cell_type": "code",
   "execution_count": 9,
   "metadata": {},
   "outputs": [
    {
     "name": "stdout",
     "output_type": "stream",
     "text": [
      "              precision    recall  f1-score   support\n",
      "\n",
      "           0       0.72      0.48      0.58       123\n",
      "           1       0.59      0.80      0.68       114\n",
      "\n",
      "    accuracy                           0.63       237\n",
      "   macro avg       0.65      0.64      0.63       237\n",
      "weighted avg       0.66      0.63      0.62       237\n",
      "\n"
     ]
    },
    {
     "data": {
      "image/png": "[encoded data removed]",
      "text/plain": [
       "<Figure size 216x216 with 2 Axes>"
      ]
     },
     "metadata": {
      "needs_background": "light"
     },
     "output_type": "display_data"
    }
   ],
   "source": [
    "y_pred_de, y_prob_de = get_deep_ensemble_pred_prob(X_test, prediction_fns)\n",
    "\n",
    "y_prob_de[y_prob_de > 1] = 1\n",
    "y_prob_de[y_prob_de < 0] = 0\n",
    "\n",
    "\n",
    "y_true = np.argmax(y_test, axis = 1)\n",
    "acc, re = get_accuracy_confidence_curve(y_true, y_pred_de, np.max(y_prob_de, axis = 1))\n",
    "\n",
    "with open(os.getcwd() + f'/pickles/re_acc_de1_{n_classes}class', 'wb') as f:\n",
    "    pickle.dump((acc, re), f)\n",
    "\n",
    "figure_path = module_path + '/figures/small_segment_dataset_plots/'\n",
    "\n",
    "f, ax = utility.plot_cm(y_true, y_pred_de, module_path = module_path,\n",
    "                        class_names = le.classes_, hex_color_str = '#be6d90')\n",
    "\n",
    "f.savefig(figure_path + f'cm_deepEnsemble_{n_classes}class.pdf', bbox_inches='tight')\n",
    "\n",
    "\n",
    "print(classification_report(y_true, y_pred_de))\n",
    "\n",
    "with open(os.getcwd() + f'/performance/true_pred_deepEnsemble_{n_classes}class', 'wb') as f:\n",
    "    pickle.dump((y_true, y_pred_de), f)"
   ]
  },
  {
   "cell_type": "code",
   "execution_count": 10,
   "metadata": {
    "scrolled": false
   },
   "outputs": [
    {
     "data": {
      "image/png": "[encoded data removed]",
      "text/plain": [
       "<Figure size 216x216 with 2 Axes>"
      ]
     },
     "metadata": {
      "needs_background": "light"
     },
     "output_type": "display_data"
    },
    {
     "data": {
      "image/png": "[encoded data removed]",
      "text/plain": [
       "<Figure size 216x216 with 2 Axes>"
      ]
     },
     "metadata": {
      "needs_background": "light"
     },
     "output_type": "display_data"
    },
    {
     "data": {
      "image/png": "[encoded data removed]",
      "text/plain": [
       "<Figure size 216x216 with 2 Axes>"
      ]
     },
     "metadata": {
      "needs_background": "light"
     },
     "output_type": "display_data"
    },
    {
     "data": {
      "image/png": "[encoded data removed]",
      "text/plain": [
       "<Figure size 216x216 with 2 Axes>"
      ]
     },
     "metadata": {
      "needs_background": "light"
     },
     "output_type": "display_data"
    },
    {
     "data": {
      "image/png": "[encoded data removed]",
      "text/plain": [
       "<Figure size 216x216 with 2 Axes>"
      ]
     },
     "metadata": {
      "needs_background": "light"
     },
     "output_type": "display_data"
    }
   ],
   "source": [
    "briers_de = []\n",
    "accs_de = []\n",
    "eces_de = []\n",
    "re_acc_de = []\n",
    "entropy_de = []\n",
    "counts_de =  []\n",
    "y_probs_de = []\n",
    "\n",
    "y_true = np.argmax(y_test, axis = 1)\n",
    "\n",
    "for X_test_noise in plot_factor[plot_label]:\n",
    "\n",
    "    y_pred_de, y_prob_de = get_deep_ensemble_pred_prob(X_test_noise, prediction_fns)\n",
    "    \n",
    "    y_prob_de[y_prob_de > 1] = 1\n",
    "    y_prob_de[y_prob_de < 0] = 0\n",
    "    \n",
    "    f, ax = utility.plot_cm(y_true, y_pred_de, module_path = module_path,\n",
    "                        class_names = le.classes_, hex_color_str = '#be6d90')\n",
    "    plt.show()\n",
    "    \n",
    "    y_probs_de.append(np.max(y_prob_de, axis = 1))\n",
    "    \n",
    "    entropy_de.append(entr(y_prob_de).sum(axis=0)/np.log(2))\n",
    "    \n",
    "    accs_de.append(metrics.accuracy_score(y_true, y_pred_de))\n",
    "    \n",
    "    brier = metrics.brier_score_loss(y_true, np.max(y_prob_de, axis = 1))\n",
    "    briers_de.append(brier)\n",
    "    \n",
    "    ece = ECE_score(y_true, y_prob_de)\n",
    "    eces_de.append(ece)\n",
    "    \n",
    "    acc, re = get_accuracy_confidence_curve(y_true, y_pred_de, np.max(y_prob_de, axis = 1))\n",
    "    re_acc_de.append((re, acc))\n",
    "    \n",
    "    counts_de.append(get_count_cuve(y_prob_de))\n",
    "    \n",
    "with open(os.getcwd() + f'/pickles/briers_de_{plot_label}', 'wb') as f:\n",
    "    pickle.dump(briers_de, f)\n",
    "    \n",
    "with open(os.getcwd() + f'/pickles/accs_de_{plot_label}', 'wb') as f:\n",
    "    pickle.dump(accs_de, f)\n",
    "\n",
    "with open(os.getcwd() + f'/pickles/eces_de_{plot_label}', 'wb') as f:\n",
    "    pickle.dump(eces_de, f)\n",
    "    \n",
    "with open(os.getcwd() + f'/pickles/re_acc_de_{plot_label}', 'wb') as f:\n",
    "    pickle.dump(re_acc_de, f)\n",
    "    \n",
    "with open(os.getcwd() + f'/pickles/entropy_de_{plot_label}', 'wb') as f:\n",
    "    pickle.dump(entropy_de, f)\n",
    "    \n",
    "with open(os.getcwd() + f'/pickles/counts_de_{plot_label}', 'wb') as f:\n",
    "    pickle.dump(counts_de, f)\n",
    "    \n",
    "with open(os.getcwd() + f'/pickles/probs_de_{plot_label}', 'wb') as f:\n",
    "    pickle.dump(y_probs_de, f)"
   ]
  },
  {
   "cell_type": "markdown",
   "metadata": {},
   "source": [
    "# Dropout model, and normal model"
   ]
  },
  {
   "cell_type": "code",
   "execution_count": 4,
   "metadata": {},
   "outputs": [
    {
     "name": "stdout",
     "output_type": "stream",
     "text": [
      "Time utilized = 119.53657913208008\n"
     ]
    }
   ],
   "source": [
    "def get_MC_dropout_model(input_shape):\n",
    "    #input_shape=(X_train.shape[1], 1)\n",
    "\n",
    "\n",
    "    model = Sequential()\n",
    "\n",
    "    model.add(Conv1D(filters=50, kernel_size=6, activation='relu', input_shape=input_shape))\n",
    "    model.add(MaxPooling1D(pool_size=50))\n",
    "    model.add(Conv1D(filters=50, kernel_size=6, activation='relu', input_shape=input_shape))\n",
    "    #model.add(MonteCarloDropout(0.25))\n",
    "    model.add(Flatten())\n",
    "    model.add(Dense(1500, activation='relu'))\n",
    "    model.add(MonteCarloDropout(0.5))\n",
    "\n",
    "    #model.add(Dense(500, activation='relu'))\n",
    "\n",
    "    model.add(Dense(num_classes, activation='softmax'))\n",
    "    optimizer = keras.optimizers.Nadam(lr=0.001)\n",
    "    model.compile(loss=\"categorical_crossentropy\", \n",
    "                  optimizer=optimizer, metrics=[\"accuracy\"])\n",
    "    return model\n",
    "    \n",
    "def get_model(input_shape):\n",
    "    #input_shape=(X_train.shape[1], 1)\n",
    "\n",
    "\n",
    "    model = Sequential()\n",
    "\n",
    "    model.add(Conv1D(filters=50, kernel_size=6, activation='relu', input_shape=input_shape))\n",
    "    model.add(MaxPooling1D(pool_size=50))\n",
    "    model.add(Conv1D(filters=50, kernel_size=6, activation='relu', input_shape=input_shape))\n",
    "    #model.add(MonteCarloDropout(0.25))\n",
    "    model.add(Flatten())\n",
    "    model.add(Dense(1500, activation='relu'))\n",
    "    model.add(Dropout(0.5))\n",
    "\n",
    "    #model.add(Dense(500, activation='relu'))\n",
    "\n",
    "    model.add(Dense(num_classes, activation='softmax'))\n",
    "    optimizer = keras.optimizers.Nadam(lr=0.001)\n",
    "    model.compile(loss=\"categorical_crossentropy\", \n",
    "                  optimizer=optimizer, metrics=[\"accuracy\"])\n",
    "    return model\n",
    "\n",
    "input_shape=(X_train.shape[1], 1)\n",
    "batch_size = 100\n",
    "epochs = 100\n",
    "\n",
    "\n",
    "model_MC = get_MC_dropout_model(input_shape)\n",
    "\n",
    "model = get_model(input_shape)\n",
    "\n",
    "model.fit(X_train, y_train, epochs = epochs,\n",
    "          batch_size = batch_size,\n",
    "          verbose = 0,\n",
    "         validation_data = (X_val, y_val))\n",
    "\n",
    "start = time()\n",
    "model_MC.fit(X_train, y_train, epochs = epochs,\n",
    "          batch_size = batch_size,\n",
    "          verbose = 0,\n",
    "         validation_data = (X_val, y_val))\n",
    "\n",
    "print(f'Time utilized = {time() - start}')"
   ]
  },
  {
   "cell_type": "code",
   "execution_count": 6,
   "metadata": {},
   "outputs": [
    {
     "name": "stdout",
     "output_type": "stream",
     "text": [
      "              precision    recall  f1-score   support\n",
      "\n",
      "           0       0.66      0.61      0.63       123\n",
      "           1       0.61      0.66      0.63       114\n",
      "\n",
      "    accuracy                           0.63       237\n",
      "   macro avg       0.63      0.63      0.63       237\n",
      "weighted avg       0.63      0.63      0.63       237\n",
      "\n"
     ]
    },
    {
     "data": {
      "image/png": "[encoded data removed]",
      "text/plain": [
       "<Figure size 216x216 with 2 Axes>"
      ]
     },
     "metadata": {
      "needs_background": "light"
     },
     "output_type": "display_data"
    }
   ],
   "source": [
    "y_pred_mc, y_prob_mc = predict_class(X_test, model_MC, 100)\n",
    "y_prob = model.predict(X_test) \n",
    "y_pred = np.argmax(y_prob, axis = 1)\n",
    "y_true = np.argmax(y_test, axis = 1)\n",
    "\n",
    "acc, re = get_accuracy_confidence_curve(y_true, y_pred_mc, np.max(y_prob_mc, axis = 1))\n",
    "\n",
    "with open(os.getcwd() + f'/pickles/re_acc_mc1_{n_classes}class', 'wb') as f:\n",
    "    pickle.dump((acc, re), f)\n",
    "\n",
    "acc, re = get_accuracy_confidence_curve(y_true, y_pred, np.max(y_prob, axis = 1))\n",
    "\n",
    "with open(os.getcwd() + f'/pickles/re_acc1_{n_classes}class', 'wb') as f:\n",
    "    pickle.dump((acc, re), f)\n",
    "    \n",
    "figure_path = module_path + '/figures/small_segment_dataset_plots/'\n",
    "\n",
    "f, ax = utility.plot_cm(y_true, y_pred_mc, module_path = module_path,\n",
    "                        class_names = le.classes_, hex_color_str = '#f96244')\n",
    "\n",
    "f.savefig(figure_path + f'cm_MCdropout_{n_classes}class.pdf', bbox_inches='tight')\n",
    "\n",
    "\n",
    "print(classification_report(y_true, y_pred_mc))\n",
    "\n",
    "with open(os.getcwd() + f'/performance/true_pred_MCdropout_{n_classes}class', 'wb') as f:\n",
    "    pickle.dump((y_true, y_pred_mc), f)"
   ]
  },
  {
   "cell_type": "code",
   "execution_count": 11,
   "metadata": {
    "scrolled": false
   },
   "outputs": [
    {
     "data": {
      "image/png": "[encoded data removed]",
      "text/plain": [
       "<Figure size 216x216 with 2 Axes>"
      ]
     },
     "metadata": {
      "needs_background": "light"
     },
     "output_type": "display_data"
    },
    {
     "data": {
      "image/png": "[encoded data removed]",
      "text/plain": [
       "<Figure size 216x216 with 2 Axes>"
      ]
     },
     "metadata": {
      "needs_background": "light"
     },
     "output_type": "display_data"
    },
    {
     "data": {
      "image/png": "[encoded data removed]",
      "text/plain": [
       "<Figure size 216x216 with 2 Axes>"
      ]
     },
     "metadata": {
      "needs_background": "light"
     },
     "output_type": "display_data"
    },
    {
     "data": {
      "image/png": "[encoded data removed]",
      "text/plain": [
       "<Figure size 216x216 with 2 Axes>"
      ]
     },
     "metadata": {
      "needs_background": "light"
     },
     "output_type": "display_data"
    },
    {
     "data": {
      "image/png": "[encoded data removed]",
      "text/plain": [
       "<Figure size 216x216 with 2 Axes>"
      ]
     },
     "metadata": {
      "needs_background": "light"
     },
     "output_type": "display_data"
    },
    {
     "data": {
      "image/png": "[encoded data removed]",
      "text/plain": [
       "<Figure size 216x216 with 2 Axes>"
      ]
     },
     "metadata": {
      "needs_background": "light"
     },
     "output_type": "display_data"
    },
    {
     "data": {
      "image/png": "[encoded data removed]",
      "text/plain": [
       "<Figure size 216x216 with 2 Axes>"
      ]
     },
     "metadata": {
      "needs_background": "light"
     },
     "output_type": "display_data"
    },
    {
     "data": {
      "image/png": "[encoded data removed]",
      "text/plain": [
       "<Figure size 216x216 with 2 Axes>"
      ]
     },
     "metadata": {
      "needs_background": "light"
     },
     "output_type": "display_data"
    },
    {
     "data": {
      "image/png": "[encoded data removed]",
      "text/plain": [
       "<Figure size 216x216 with 2 Axes>"
      ]
     },
     "metadata": {
      "needs_background": "light"
     },
     "output_type": "display_data"
    },
    {
     "data": {
      "image/png": "[encoded data removed]",
      "text/plain": [
       "<Figure size 216x216 with 2 Axes>"
      ]
     },
     "metadata": {
      "needs_background": "light"
     },
     "output_type": "display_data"
    }
   ],
   "source": [
    "briers = []\n",
    "accs = []\n",
    "eces = []\n",
    "re_acc = []\n",
    "entropy = []\n",
    "counts = []\n",
    "\n",
    "briers_mc = []\n",
    "accs_mc = []\n",
    "eces_mc = []\n",
    "re_acc_mc = []\n",
    "entropy_mc = []\n",
    "counts_mc = []\n",
    "\n",
    "y_probs = []\n",
    "y_probs_mc = []\n",
    "\n",
    "\n",
    "y_true = np.argmax(y_test, axis = 1)\n",
    "\n",
    "for X_test_noise in plot_factor[plot_label]:\n",
    "    # MC DROPOUT\n",
    "    y_pred_mc, y_prob_mc = predict_class(X_test_noise, model_MC, 100)\n",
    "    y_probs_mc.append(np.max(y_prob_mc, axis = 1))\n",
    "    entropy_mc.append(entr(y_prob_mc).sum(axis=0)/np.log(2))\n",
    "    \n",
    "    f, ax = utility.plot_cm(y_true, y_pred_mc, module_path = module_path,\n",
    "                        class_names = le.classes_, hex_color_str = '#f96244')\n",
    "    \n",
    "    accs_mc.append(metrics.accuracy_score(y_true, y_pred_mc))\n",
    "    \n",
    "    brier = metrics.brier_score_loss(y_true, np.max(y_prob_mc, axis = 1))\n",
    "    briers_mc.append(brier)\n",
    "    \n",
    "    ece = ECE_score(y_true, y_prob_mc)\n",
    "    eces_mc.append(ece)\n",
    "    \n",
    "    acc, re = get_accuracy_confidence_curve(y_true, y_pred_mc, np.max(y_prob_mc, axis = 1))\n",
    "    re_acc_mc.append((re, acc))\n",
    "    \n",
    "    counts_mc.append(get_count_cuve(y_prob_mc))\n",
    "    \n",
    "    # ORIGINAL CNN\n",
    "    y_prob = model.predict(X_test_noise) \n",
    "    y_probs.append(np.max(y_prob, axis = 1))\n",
    "    y_pred = np.argmax(y_prob, axis = 1)\n",
    "    \n",
    "    f, ax = utility.plot_cm(y_true, y_pred, module_path = module_path,\n",
    "                        class_names = le.classes_, hex_color_str = '#4D908E')\n",
    "    \n",
    "    entropy.append(entr(y_prob).sum(axis=0)/np.log(2))\n",
    "    \n",
    "    accs.append(metrics.accuracy_score(y_true, y_pred))\n",
    "    \n",
    "    brier = metrics.brier_score_loss(y_true, np.max(y_prob, axis = 1))\n",
    "    briers.append(brier)\n",
    "    \n",
    "    ece = ECE_score(y_true, y_prob)\n",
    "    eces.append(ece)\n",
    "    \n",
    "    acc, re = get_accuracy_confidence_curve(y_true, y_pred, np.max(y_prob, axis = 1))\n",
    "    re_acc.append((re, acc))\n",
    "    \n",
    "    counts.append(get_count_cuve(y_prob))\n",
    "    \n",
    "    \n",
    "with open(os.getcwd() + f'/pickles/probs_{plot_label}', 'wb') as f:\n",
    "    pickle.dump(y_probs, f)\n",
    "    \n",
    "with open(os.getcwd() + f'/pickles/probs_mc_{plot_label}', 'wb') as f:\n",
    "    pickle.dump(y_probs_mc, f)\n",
    "    \n",
    "    \n",
    "with open(os.getcwd() + f'/pickles/briers_mc_{plot_label}', 'wb') as f:\n",
    "    pickle.dump(briers_mc, f)\n",
    "    \n",
    "with open(os.getcwd() + f'/pickles/accs_mc_{plot_label}', 'wb') as f:\n",
    "    pickle.dump(accs_mc, f)\n",
    "\n",
    "with open(os.getcwd() + f'/pickles/eces_mc_{plot_label}', 'wb') as f:\n",
    "    pickle.dump(eces_mc, f)\n",
    "    \n",
    "with open(os.getcwd() + f'/pickles/re_acc_mc_{plot_label}', 'wb') as f:\n",
    "    pickle.dump(re_acc_mc, f)\n",
    "    \n",
    "with open(os.getcwd() + f'/pickles/entropy_mc_{plot_label}', 'wb') as f:\n",
    "    pickle.dump(entropy_mc, f)\n",
    "    \n",
    "with open(os.getcwd() + f'/pickles/briers_{plot_label}', 'wb') as f:\n",
    "    pickle.dump(briers, f)\n",
    "    \n",
    "with open(os.getcwd() + f'/pickles/accs_{plot_label}', 'wb') as f:\n",
    "    pickle.dump(accs, f)\n",
    "\n",
    "with open(os.getcwd() + f'/pickles/eces_{plot_label}', 'wb') as f:\n",
    "    pickle.dump(eces, f)\n",
    "    \n",
    "with open(os.getcwd() + f'/pickles/re_acc_{plot_label}', 'wb') as f:\n",
    "    pickle.dump(re_acc, f)\n",
    "    \n",
    "with open(os.getcwd() + f'/pickles/entropy_{plot_label}', 'wb') as f:\n",
    "    pickle.dump(entropy, f)\n",
    "    \n",
    "with open(os.getcwd() + f'/pickles/counts_mc_{plot_label}', 'wb') as f:\n",
    "    pickle.dump(counts_mc, f)\n",
    "    \n",
    "with open(os.getcwd() + f'/pickles/counts_{plot_label}', 'wb') as f:\n",
    "    pickle.dump(counts, f)"
   ]
  },
  {
   "cell_type": "markdown",
   "metadata": {},
   "source": [
    "# Example, listen after applying augumentation"
   ]
  },
  {
   "cell_type": "code",
   "execution_count": 7,
   "metadata": {},
   "outputs": [],
   "source": [
    "def get_accuracy_accuracy_rejection_curve(y_test, y_pred, prob):  \n",
    "    tot = len(y_test)\n",
    "    def is_in_range(l, u, x):\n",
    "        return (x < u) & (x > l)\n",
    "    \n",
    "    #lower = np.linspace(0.5, 0, 101)[:-1]\n",
    "    #upper = np.linspace(0.5, 1, 101)[:-1]\n",
    "    lower = np.linspace(0.5, 0, 10)[:-1]\n",
    "    upper = np.linspace(0.5, 1, 10)[:-1]\n",
    "    \n",
    "    acc = []\n",
    "    re = []\n",
    "    \n",
    "\n",
    "    for r in zip(lower, upper):\n",
    "        temp_true = y_test.copy()\n",
    "        temp_pred = y_pred.copy()\n",
    "        \n",
    "        reject_samples = is_in_range(r[0], r[1], prob)\n",
    "        \n",
    "        if np.any(reject_samples):\n",
    "            keep_indices = np.where(reject_samples !=  True)[0]\n",
    "            keep_indices = np.unique(keep_indices)\n",
    "\n",
    "            temp_true = temp_true[keep_indices]\n",
    "            temp_pred = temp_pred[keep_indices]\n",
    "            \n",
    "        #if len(acc)%10 == 0:\n",
    "        #    f, ax = utility.plot_cm(temp_true, temp_pred, module_path = module_path)\n",
    "            \n",
    "        acc.append(metrics.accuracy_score(temp_true, temp_pred))\n",
    "        re.append(1 - len(temp_true)/tot)\n",
    "        \n",
    "    return acc, re  "
   ]
  },
  {
   "cell_type": "code",
   "execution_count": 33,
   "metadata": {},
   "outputs": [
    {
     "data": {
      "image/png": "[encoded data removed]",
      "text/plain": [
       "<Figure size 216x216 with 1 Axes>"
      ]
     },
     "metadata": {
      "needs_background": "light"
     },
     "output_type": "display_data"
    }
   ],
   "source": [
    "X_train_noise = plot_factor['shift'][-1]\n",
    "X_train_noise = X_train_noise.reshape(X_train_noise.shape[0],X_train_noise.shape[1])\n",
    "X_new = helper.get_dim_reduced_X(X_train_noise, 'pca')\n",
    "\n",
    "f, ax = helper.scatterplot_with_colors(X_new, np.argmax(y_test,axis = 1), module_path = module_path, new_legends = ['crackle', 'wheeze'])"
   ]
  },
  {
   "cell_type": "code",
   "execution_count": 32,
   "metadata": {},
   "outputs": [
    {
     "data": {
      "image/png": "[encoded data removed]",
      "text/plain": [
       "<Figure size 216x216 with 1 Axes>"
      ]
     },
     "metadata": {
      "needs_background": "light"
     },
     "output_type": "display_data"
    }
   ],
   "source": [
    "X_train_noise = plot_factor['pitch'][-1]\n",
    "X_train_noise = X_train_noise.reshape(X_train_noise.shape[0],X_train_noise.shape[1])\n",
    "X_new = helper.get_dim_reduced_X(X_train_noise, 'pca')\n",
    "\n",
    "f, ax = helper.scatterplot_with_colors(X_new, np.argmax(y_test,axis = 1), module_path = module_path, new_legends = ['crackle', 'wheeze'])"
   ]
  },
  {
   "cell_type": "code",
   "execution_count": 31,
   "metadata": {},
   "outputs": [
    {
     "data": {
      "image/png": "[encoded data removed]",
      "text/plain": [
       "<Figure size 216x216 with 1 Axes>"
      ]
     },
     "metadata": {
      "needs_background": "light"
     },
     "output_type": "display_data"
    }
   ],
   "source": [
    "X_train_noise = plot_factor['noise'][-1]\n",
    "X_train_noise = X_train_noise.reshape(X_train_noise.shape[0],X_train_noise.shape[1])\n",
    "X_new = helper.get_dim_reduced_X(X_train_noise, 'pca')\n",
    "\n",
    "f, ax = helper.scatterplot_with_colors(X_new, np.argmax(y_test,axis = 1), module_path = module_path, new_legends = ['crackle', 'wheeze'])"
   ]
  },
  {
   "cell_type": "code",
   "execution_count": 30,
   "metadata": {},
   "outputs": [
    {
     "data": {
      "image/png": "[encoded data removed]",
      "text/plain": [
       "<Figure size 216x216 with 1 Axes>"
      ]
     },
     "metadata": {
      "needs_background": "light"
     },
     "output_type": "display_data"
    }
   ],
   "source": [
    "X_test = X_test.reshape(X_test.shape[0],X_test.shape[1])\n",
    "X_new = helper.get_dim_reduced_X(X_test, 'pca')\n",
    "\n",
    "f, ax = helper.scatterplot_with_colors(X_new, np.argmax(y_test,axis = 1), module_path = module_path, new_legends = ['crackle', 'wheeze'])"
   ]
  },
  {
   "cell_type": "code",
   "execution_count": 65,
   "metadata": {},
   "outputs": [
    {
     "data": {
      "text/html": [
       "\n",
       "                <audio  controls=\"controls\" >\n",
       "                    <source src=\"data:audio/wav;base64,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\" type=\"audio/wav\" />\n",
       "                    Your browser does not support the audio element.\n",
       "                </audio>\n",
       "              "
      ],
      "text/plain": [
       "<IPython.lib.display.Audio object>"
      ]
     },
     "execution_count": 65,
     "metadata": {},
     "output_type": "execute_result"
    }
   ],
   "source": [
    "t = np.hstack(X_train_noise[658])\n",
    "t1 = manipulate_pitch(t, 8000, 1)\n",
    "\n",
    "ipd.Audio(t1, rate = 8000) # load a local WAV file"
   ]
  },
  {
   "cell_type": "code",
   "execution_count": 64,
   "metadata": {},
   "outputs": [
    {
     "data": {
      "text/html": [
       "\n",
       "                <audio  controls=\"controls\" >\n",
       "                    <source src=\"data:audio/wav;base64,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\" type=\"audio/wav\" />\n",
       "                    Your browser does not support the audio element.\n",
       "                </audio>\n",
       "              "
      ],
      "text/plain": [
       "<IPython.lib.display.Audio object>"
      ]
     },
     "execution_count": 64,
     "metadata": {},
     "output_type": "execute_result"
    }
   ],
   "source": [
    "import IPython.display as ipd\n",
    "\n",
    "t = np.hstack(X_train[658])\n",
    "t1 = manipulate_pitch(t, 8000, 1)\n",
    "\n",
    "ipd.Audio(t1, rate = 8000) # load a local WAV file"
   ]
  },
  {
   "cell_type": "code",
   "execution_count": null,
   "metadata": {},
   "outputs": [],
   "source": [
    "\n",
    "ipd.Audio(t, rate = 8000) # load a local WAV file"
   ]
  }
 ],
 "metadata": {
  "kernelspec": {
   "display_name": "Python 3",
   "language": "python",
   "name": "python3"
  },
  "language_info": {
   "codemirror_mode": {
    "name": "ipython",
    "version": 3
   },
   "file_extension": ".py",
   "mimetype": "text/x-python",
   "name": "python",
   "nbconvert_exporter": "python",
   "pygments_lexer": "ipython3",
   "version": "3.7.0"
  }
 },
 "nbformat": 4,
 "nbformat_minor": 5
}
