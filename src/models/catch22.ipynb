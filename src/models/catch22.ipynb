{
 "cells": [
  {
   "cell_type": "code",
   "execution_count": 58,
   "metadata": {},
   "outputs": [],
   "source": [
    "import numpy as np\n",
    "import pandas as pd\n",
    "import os\n",
    "import sys\n",
    "module_path = os.path.abspath(os.path.join('../..'))\n",
    "sys.path.insert(1, module_path + '/src')\n",
    "\n",
    "import utility\n",
    "import sktime\n",
    "from sktime.utils.data_io import load_from_tsfile_to_dataframe\n",
    "from sklearn.model_selection import train_test_split\n",
    "\n",
    "import matplotlib.pyplot as plt\n",
    "\n",
    "from sklearn.metrics import classification_report\n",
    "from sklearn.model_selection import GridSearchCV \n",
    "from sklearn.neighbors import KNeighborsClassifier\n",
    "from sklearn.svm import SVC\n",
    "from sklearn.neural_network import MLPClassifier\n",
    "from sklearn.ensemble import RandomForestClassifier\n",
    "from sklearn.metrics import classification_report\n",
    "from sktime.transformations.panel.catch22_features import Catch22\n",
    "\n",
    "from sklearn.metrics import accuracy_score, classification_report\n",
    "\n",
    "from sklearn.utils import shuffle\n",
    "\n",
    "from sklearn.metrics import confusion_matrix\n",
    "\n",
    "#from sktime.classification.compose import TimeSeriesForestClassifier\n",
    "\n",
    "import time as time\n",
    "from sklearn.preprocessing import MinMaxScaler\n",
    "\n"
   ]
  },
  {
   "cell_type": "markdown",
   "metadata": {},
   "source": [
    "# Trying catch22 on a permutation of the dataset"
   ]
  },
  {
   "cell_type": "code",
   "execution_count": 46,
   "metadata": {},
   "outputs": [
    {
     "name": "stdout",
     "output_type": "stream",
     "text": [
      "Time to extract features: 57.06494426727295\n"
     ]
    }
   ],
   "source": [
    "X_train, y_train = load_from_tsfile_to_dataframe(module_path + '/data/ts_files/minimal_dataset_2class_TRAIN.ts')\n",
    "X_test, y_test = load_from_tsfile_to_dataframe(module_path + '/data/ts_files/minimal_dataset_2class_TEST.ts')\n",
    "X_val, y_val = load_from_tsfile_to_dataframe(module_path + '/data/ts_files/minimal_dataset_2class_VAL.ts')\n",
    "\n",
    "\n",
    "labels, counts = np.unique(y_train, return_counts=True)\n",
    "print(labels, counts)\n",
    "\n",
    "\n",
    "start = time.time()\n",
    "c22f = Catch22()\n",
    "c22f.fit(X_train , y_train)\n",
    "\n",
    "X_train_t = c22f.transform(X_train)\n",
    "X_test_t = c22f.transform(X_test)\n",
    "X_val_t = c22f.transform(X_val)\n",
    "\n",
    "time_used = time.time() - start\n",
    "print(f'Time to extract features: {time_used}')\n",
    "\n",
    "scaler = MinMaxScaler()\n",
    "\n",
    "scaler.fit(X_train_t)\n",
    "X_train_t = scaler.transform(X_train_t)\n",
    "X_test_t = scaler.transform(X_test_t)\n",
    "X_val_t = scaler.transform(X_val_t)"
   ]
  },
  {
   "cell_type": "markdown",
   "metadata": {},
   "source": [
    "Comment out the last line in the code below to run the "
   ]
  },
  {
   "cell_type": "markdown",
   "metadata": {},
   "source": [
    "## Random Forest"
   ]
  },
  {
   "cell_type": "code",
   "execution_count": 48,
   "metadata": {},
   "outputs": [],
   "source": [
    "parameters = {\n",
    "'n_estimators'      : [100,200,300],\n",
    "'max_depth'         : [8, 10, 12],\n",
    "'random_state'      : [0]}\n",
    "\n",
    "grid = GridSearchCV(RandomForestClassifier(), parameters, cv=5).fit(X_train_t,y_train)"
   ]
  },
  {
   "cell_type": "code",
   "execution_count": 49,
   "metadata": {},
   "outputs": [
    {
     "name": "stdout",
     "output_type": "stream",
     "text": [
      "0.7510548523206751\n"
     ]
    },
    {
     "data": {
      "image/png": "[encoded data removed]",
      "text/plain": [
       "<Figure size 216x216 with 2 Axes>"
      ]
     },
     "metadata": {
      "needs_background": "light"
     },
     "output_type": "display_data"
    }
   ],
   "source": [
    "clf = grid.best_estimator_\n",
    "clf.fit(X_train_t,y_train)\n",
    "y_pred = clf.predict(X_test_t)\n",
    "\n",
    "figure_path = module_path + '/figures/small_segment_dataset_plots/'\n",
    "\n",
    "f, ax = utility.plot_cm(y_test, y_pred, module_path = module_path, class_names = labels, color_index = 7)\n",
    "\n",
    "f.savefig(figure_path + f'cm_simpleCatch22_2class.pdf', bbox_inches='tight')\n",
    "\n",
    "print(accuracy_score(y_test, y_pred))"
   ]
  },
  {
   "cell_type": "markdown",
   "metadata": {},
   "source": [
    "# KNN"
   ]
  },
  {
   "cell_type": "code",
   "execution_count": 50,
   "metadata": {},
   "outputs": [],
   "source": [
    "leaf_size = list(range(1,5))\n",
    "n_neighbors = list(range(1,3))\n",
    "p=[1,2]\n",
    "hyperparameters = dict(leaf_size=leaf_size, n_neighbors=n_neighbors, p=p)\n",
    "knn= KNeighborsClassifier()\n",
    "\n",
    "\n",
    "grid = GridSearchCV(knn, hyperparameters, cv=5).fit(X_train_t,y_train)"
   ]
  },
  {
   "cell_type": "code",
   "execution_count": 51,
   "metadata": {},
   "outputs": [
    {
     "name": "stdout",
     "output_type": "stream",
     "text": [
      "0.620253164556962\n"
     ]
    },
    {
     "data": {
      "image/png": "[encoded data removed]",
      "text/plain": [
       "<Figure size 216x216 with 2 Axes>"
      ]
     },
     "metadata": {
      "needs_background": "light"
     },
     "output_type": "display_data"
    }
   ],
   "source": [
    "clf = grid.best_estimator_\n",
    "clf.fit(X_train_t,y_train)\n",
    "y_pred = clf.predict(X_test_t)\n",
    "\n",
    "figure_path = module_path + '/figures/small_segment_dataset_plots/'\n",
    "\n",
    "f, ax = utility.plot_cm(y_test, y_pred, module_path = module_path, class_names = labels, color_index = 7)\n",
    "\n",
    "f.savefig(figure_path + f'cm_simpleCatch22_2class.pdf', bbox_inches='tight')\n",
    "\n",
    "print(accuracy_score(y_test, y_pred))"
   ]
  },
  {
   "cell_type": "markdown",
   "metadata": {},
   "source": [
    "## ANN"
   ]
  },
  {
   "cell_type": "code",
   "execution_count": 52,
   "metadata": {},
   "outputs": [
    {
     "name": "stderr",
     "output_type": "stream",
     "text": [
      "/home/andrine/anaconda3/lib/python3.7/site-packages/sklearn/neural_network/_multilayer_perceptron.py:617: ConvergenceWarning: Stochastic Optimizer: Maximum iterations (200) reached and the optimization hasn't converged yet.\n",
      "  % self.max_iter, ConvergenceWarning)\n",
      "/home/andrine/anaconda3/lib/python3.7/site-packages/sklearn/neural_network/_multilayer_perceptron.py:617: ConvergenceWarning: Stochastic Optimizer: Maximum iterations (200) reached and the optimization hasn't converged yet.\n",
      "  % self.max_iter, ConvergenceWarning)\n"
     ]
    }
   ],
   "source": [
    "parameter_space = {\n",
    "'hidden_layer_sizes': [(1000,500), (1000,500, 250)],\n",
    "'activation': [ 'relu'],\n",
    "'solver': ['adam'],\n",
    "'alpha': [0.0001, 0.05]}\n",
    "grid = GridSearchCV(MLPClassifier(), parameter_space, cv=5).fit(X_train_t,y_train)"
   ]
  },
  {
   "cell_type": "code",
   "execution_count": 53,
   "metadata": {},
   "outputs": [
    {
     "name": "stdout",
     "output_type": "stream",
     "text": [
      "0.759493670886076\n"
     ]
    },
    {
     "data": {
      "image/png": "[encoded data removed]",
      "text/plain": [
       "<Figure size 216x216 with 2 Axes>"
      ]
     },
     "metadata": {
      "needs_background": "light"
     },
     "output_type": "display_data"
    }
   ],
   "source": [
    "clf = grid.best_estimator_\n",
    "clf.fit(X_train_t,y_train)\n",
    "y_pred = clf.predict(X_test_t)\n",
    "\n",
    "figure_path = module_path + '/figures/small_segment_dataset_plots/'\n",
    "\n",
    "f, ax = utility.plot_cm(y_test, y_pred, module_path = module_path, class_names = labels, color_index = 7)\n",
    "\n",
    "f.savefig(figure_path + f'cm_simpleCatch22_2class.pdf', bbox_inches='tight')\n",
    "\n",
    "print(accuracy_score(y_test, y_pred))"
   ]
  },
  {
   "cell_type": "markdown",
   "metadata": {},
   "source": [
    "## SVM"
   ]
  },
  {
   "cell_type": "code",
   "execution_count": 54,
   "metadata": {},
   "outputs": [],
   "source": [
    "param_grid = {'C': [0.1, 1, 10, 100, 1000],  \n",
    "          'gamma': [1, 0.1, 0.01, 0.001, 0.0001], \n",
    "          'kernel': ['rbf']}  \n",
    "\n",
    "grid = GridSearchCV(SVC(), param_grid, refit = True, verbose = 0, cv = 5).fit(X_train_t,y_train)"
   ]
  },
  {
   "cell_type": "code",
   "execution_count": 59,
   "metadata": {
    "scrolled": true
   },
   "outputs": [
    {
     "name": "stdout",
     "output_type": "stream",
     "text": [
      "              precision    recall  f1-score   support\n",
      "\n",
      "     crackle       0.79      0.76      0.77       123\n",
      "      wheeze       0.75      0.78      0.76       114\n",
      "\n",
      "    accuracy                           0.77       237\n",
      "   macro avg       0.77      0.77      0.77       237\n",
      "weighted avg       0.77      0.77      0.77       237\n",
      "\n"
     ]
    },
    {
     "data": {
      "image/png": "[encoded data removed]",
      "text/plain": [
       "<Figure size 216x216 with 2 Axes>"
      ]
     },
     "metadata": {
      "needs_background": "light"
     },
     "output_type": "display_data"
    }
   ],
   "source": [
    "clf = grid.best_estimator_\n",
    "clf.fit(X_train_t,y_train)\n",
    "y_pred = clf.predict(X_test_t)\n",
    "\n",
    "figure_path = module_path + '/figures/small_segment_dataset_plots/'\n",
    "\n",
    "f, ax = utility.plot_cm(y_test, y_pred, module_path = module_path, class_names = labels, color_index = 2)\n",
    "\n",
    "f.savefig(figure_path + f'cm_simpleCatch22_2class.pdf', bbox_inches='tight')\n",
    "\n",
    "print(classification_report(y_test, y_pred))"
   ]
  },
  {
   "cell_type": "markdown",
   "metadata": {},
   "source": [
    "## 3 class classification"
   ]
  },
  {
   "cell_type": "code",
   "execution_count": 60,
   "metadata": {},
   "outputs": [
    {
     "name": "stdout",
     "output_type": "stream",
     "text": [
      "['crackle' 'normal' 'wheeze'] [438 418 431]\n",
      "Time to extract features: 86.62669515609741\n"
     ]
    }
   ],
   "source": [
    "X_train, y_train = load_from_tsfile_to_dataframe(module_path + '/data/ts_files/minimal_dataset_3class_TRAIN.ts')\n",
    "X_test, y_test = load_from_tsfile_to_dataframe(module_path + '/data/ts_files/minimal_dataset_3class_TEST.ts')\n",
    "X_val, y_val = load_from_tsfile_to_dataframe(module_path + '/data/ts_files/minimal_dataset_3class_VAL.ts')\n",
    "\n",
    "\n",
    "labels, counts = np.unique(y_train, return_counts=True)\n",
    "print(labels, counts)\n",
    "\n",
    "\n",
    "start = time.time()\n",
    "c22f = Catch22()\n",
    "c22f.fit(X_train , y_train)\n",
    "\n",
    "X_train_t = c22f.transform(X_train)\n",
    "X_test_t = c22f.transform(X_test)\n",
    "X_val_t = c22f.transform(X_val)\n",
    "\n",
    "time_used = time.time() - start\n",
    "print(f'Time to extract features: {time_used}')\n",
    "\n",
    "scaler = MinMaxScaler()\n",
    "\n",
    "scaler.fit(X_train_t)\n",
    "X_train_t = scaler.transform(X_train_t)\n",
    "X_test_t = scaler.transform(X_test_t)\n",
    "X_val_t = scaler.transform(X_val_t)"
   ]
  },
  {
   "cell_type": "code",
   "execution_count": 61,
   "metadata": {},
   "outputs": [
    {
     "name": "stdout",
     "output_type": "stream",
     "text": [
      "              precision    recall  f1-score   support\n",
      "\n",
      "     crackle       0.62      0.64      0.63       111\n",
      "      normal       0.49      0.59      0.54       105\n",
      "      wheeze       0.62      0.50      0.55       128\n",
      "\n",
      "    accuracy                           0.57       344\n",
      "   macro avg       0.58      0.58      0.57       344\n",
      "weighted avg       0.58      0.57      0.57       344\n",
      "\n"
     ]
    },
    {
     "data": {
      "image/png": "[encoded data removed]",
      "text/plain": [
       "<Figure size 216x216 with 2 Axes>"
      ]
     },
     "metadata": {
      "needs_background": "light"
     },
     "output_type": "display_data"
    }
   ],
   "source": [
    "param_grid = {'C': [0.1, 1, 10, 100, 1000],  \n",
    "          'gamma': [1, 0.1, 0.01, 0.001, 0.0001], \n",
    "          'kernel': ['rbf']}  \n",
    "\n",
    "grid = GridSearchCV(SVC(), param_grid, refit = True, verbose = 0, cv = 5).fit(X_train_t,y_train)\n",
    "\n",
    "clf = grid.best_estimator_\n",
    "clf.fit(X_train_t,y_train)\n",
    "y_pred = clf.predict(X_test_t)\n",
    "\n",
    "figure_path = module_path + '/figures/small_segment_dataset_plots/'\n",
    "\n",
    "f, ax = utility.plot_cm(y_test, y_pred, module_path = module_path, class_names = labels, color_index = 2)\n",
    "\n",
    "f.savefig(figure_path + f'cm_simpleCatch22_3class.pdf', bbox_inches='tight')\n",
    "\n",
    "print(classification_report(y_test, y_pred))"
   ]
  }
 ],
 "metadata": {
  "kernelspec": {
   "display_name": "Python 3",
   "language": "python",
   "name": "python3"
  },
  "language_info": {
   "codemirror_mode": {
    "name": "ipython",
    "version": 3
   },
   "file_extension": ".py",
   "mimetype": "text/x-python",
   "name": "python",
   "nbconvert_exporter": "python",
   "pygments_lexer": "ipython3",
   "version": "3.7.0"
  }
 },
 "nbformat": 4,
 "nbformat_minor": 5
}
