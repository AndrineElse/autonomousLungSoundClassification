{
 "cells": [
  {
   "cell_type": "markdown",
   "metadata": {},
   "source": [
    "https://medium.com/@Rehan_Sayyad/how-to-use-convolutional-neural-networks-for-time-series-classification-80575131a474\n",
    "\n",
    "https://machinelearningmastery.com/cnn-models-for-human-activity-recognition-time-series-classification/"
   ]
  },
  {
   "cell_type": "code",
   "execution_count": 4,
   "metadata": {},
   "outputs": [],
   "source": [
    "import sys\n",
    "import os\n",
    "import pandas as pd\n",
    "import numpy as np\n",
    "\n",
    "module_path = os.path.abspath(os.path.join('../..'))\n",
    "\n",
    "sys.path.insert(1, module_path + '/src/utils/')\n",
    "import utility\n",
    "import helper_dim_red\n",
    "\n",
    "from sklearn import metrics\n",
    "from sktime.utils.data_io import load_from_tsfile_to_dataframe\n",
    "from sktime.utils.data_processing import from_nested_to_2d_array\n",
    "from sklearn.metrics import classification_report\n",
    "import matplotlib.pyplot as plt\n",
    "from sklearn import preprocessing\n",
    "import keras.utils as np_utils\n",
    "from sktime.classification.shapelet_based import ROCKETClassifier\n",
    "\n",
    "import pickle\n",
    "from time import time\n",
    "\n",
    "figure_path = module_path + '/figures/'"
   ]
  },
  {
   "cell_type": "code",
   "execution_count": 2,
   "metadata": {},
   "outputs": [
    {
     "name": "stdout",
     "output_type": "stream",
     "text": [
      "['crackle' 'normal' 'wheeze'] [438 418 431]\n"
     ]
    }
   ],
   "source": [
    "X_train, y_train = load_from_tsfile_to_dataframe(module_path + '/data/ts_files/minimal_dataset_3class_TRAIN.ts')\n",
    "X_test, y_test = load_from_tsfile_to_dataframe(module_path + '/data/ts_files/minimal_dataset_3class_TEST.ts')\n",
    "X_val, y_val = load_from_tsfile_to_dataframe(module_path + '/data/ts_files/minimal_dataset_3class_VAL.ts')\n",
    "\n",
    "\n",
    "labels, counts = np.unique(y_train, return_counts=True)\n",
    "print(labels, counts)"
   ]
  },
  {
   "cell_type": "code",
   "execution_count": 4,
   "metadata": {},
   "outputs": [
    {
     "name": "stdout",
     "output_type": "stream",
     "text": [
      "Time utilized = 156.5388171672821\n"
     ]
    }
   ],
   "source": [
    "start = time()\n",
    "\n",
    "rocket = ROCKETClassifier(random_state=0)\n",
    "rocket.fit(X_train, y_train)\n",
    "\n",
    "y_pred = rocket.predict(X_test)\n",
    "\n",
    "print(f'Time utilized = {time() - start}')"
   ]
  },
  {
   "cell_type": "code",
   "execution_count": 5,
   "metadata": {
    "scrolled": true
   },
   "outputs": [
    {
     "name": "stdout",
     "output_type": "stream",
     "text": [
      "              precision    recall  f1-score   support\n",
      "\n",
      "     crackle       0.67      0.68      0.68       111\n",
      "      normal       0.50      0.65      0.57       105\n",
      "      wheeze       0.60      0.45      0.52       128\n",
      "\n",
      "    accuracy                           0.59       344\n",
      "   macro avg       0.59      0.60      0.59       344\n",
      "weighted avg       0.60      0.59      0.58       344\n",
      "\n"
     ]
    },
    {
     "data": {
      "image/png": "[encoded data removed]",
      "text/plain": [
       "<Figure size 216x216 with 2 Axes>"
      ]
     },
     "metadata": {
      "needs_background": "light"
     },
     "output_type": "display_data"
    }
   ],
   "source": [
    "figure_path = module_path + '/figures/small_segment_dataset_plots/'\n",
    "\n",
    "f, ax = utility.plot_cm(y_test, y_pred, module_path = module_path, class_names = labels, color_index = 8)\n",
    "\n",
    "f.savefig(figure_path + f'cm_ROCKET_3class.pdf', bbox_inches='tight')\n",
    "\n",
    "\n",
    "print(classification_report(y_test, y_pred))\n",
    "\n",
    "with open(os.getcwd() + '/performance/true_pred_ROCKET_3class', 'wb') as f:\n",
    "    pickle.dump((y_true, y_pred_de), f)"
   ]
  },
  {
   "cell_type": "markdown",
   "metadata": {},
   "source": [
    "## 2 class problem"
   ]
  },
  {
   "cell_type": "code",
   "execution_count": 6,
   "metadata": {},
   "outputs": [
    {
     "name": "stdout",
     "output_type": "stream",
     "text": [
      "['crackle' 'wheeze'] [426 441]\n"
     ]
    }
   ],
   "source": [
    "X_train, y_train = load_from_tsfile_to_dataframe(module_path + '/data/ts_files/minimal_dataset_2class_TRAIN.ts')\n",
    "X_test, y_test = load_from_tsfile_to_dataframe(module_path + '/data/ts_files/minimal_dataset_2class_TEST.ts')\n",
    "X_val, y_val = load_from_tsfile_to_dataframe(module_path + '/data/ts_files/minimal_dataset_2class_VAL.ts')\n",
    "\n",
    "\n",
    "labels, counts = np.unique(y_train, return_counts=True)\n",
    "print(labels, counts)"
   ]
  },
  {
   "cell_type": "code",
   "execution_count": 7,
   "metadata": {},
   "outputs": [
    {
     "name": "stdout",
     "output_type": "stream",
     "text": [
      "Time utilized = 110.37406706809998\n"
     ]
    }
   ],
   "source": [
    "start = time()\n",
    "\n",
    "rocket = ROCKETClassifier(random_state=0)\n",
    "rocket.fit(X_train, y_train)\n",
    "\n",
    "y_pred = rocket.predict(X_test)\n",
    "\n",
    "print(f'Time utilized = {time() - start}')"
   ]
  },
  {
   "cell_type": "code",
   "execution_count": 8,
   "metadata": {
    "scrolled": false
   },
   "outputs": [
    {
     "name": "stdout",
     "output_type": "stream",
     "text": [
      "              precision    recall  f1-score   support\n",
      "\n",
      "     crackle       0.81      0.72      0.76       123\n",
      "      wheeze       0.73      0.82      0.77       114\n",
      "\n",
      "    accuracy                           0.77       237\n",
      "   macro avg       0.77      0.77      0.77       237\n",
      "weighted avg       0.77      0.77      0.77       237\n",
      "\n"
     ]
    },
    {
     "data": {
      "image/png": "[encoded data removed]",
      "text/plain": [
       "<Figure size 216x216 with 2 Axes>"
      ]
     },
     "metadata": {
      "needs_background": "light"
     },
     "output_type": "display_data"
    }
   ],
   "source": [
    "figure_path = module_path + '/figures/small_segment_dataset_plots/'\n",
    "\n",
    "f, ax = utility.plot_cm(y_test, y_pred, module_path = module_path, class_names = labels, color_index = 8)\n",
    "\n",
    "f.savefig(figure_path + f'cm_ROCKET_2class.pdf', bbox_inches='tight')\n",
    "\n",
    "\n",
    "print(classification_report(y_test, y_pred))"
   ]
  },
  {
   "cell_type": "markdown",
   "metadata": {},
   "source": [
    "# Minirocket"
   ]
  },
  {
   "cell_type": "code",
   "execution_count": 8,
   "metadata": {},
   "outputs": [
    {
     "name": "stdout",
     "output_type": "stream",
     "text": [
      "['crackle' 'wheeze'] [426 441]\n"
     ]
    }
   ],
   "source": [
    "n_classes = 2\n",
    "\n",
    "X_train, y_train = load_from_tsfile_to_dataframe(module_path + f'/data/ts_files/minimal_dataset_{n_classes}class_TRAIN.ts')\n",
    "X_test, y_test = load_from_tsfile_to_dataframe(module_path + f'/data/ts_files/minimal_dataset_{n_classes}class_TEST.ts')\n",
    "X_val, y_val = load_from_tsfile_to_dataframe(module_path + f'/data/ts_files/minimal_dataset_{n_classes}class_VAL.ts')\n",
    "\n",
    "\n",
    "labels, counts = np.unique(y_train, return_counts=True)\n",
    "print(labels, counts)"
   ]
  },
  {
   "cell_type": "code",
   "execution_count": 9,
   "metadata": {},
   "outputs": [
    {
     "name": "stdout",
     "output_type": "stream",
     "text": [
      "Time to fit MiniROCKET:  0.34523630142211914\n",
      "Time to transform X_train:  0.8248004913330078\n",
      "Time to transform X_test:  0.22650718688964844\n",
      "Time to fit classifier:  0.29100608825683594\n",
      "Total time:  1.7316749095916748\n"
     ]
    }
   ],
   "source": [
    "from sklearn.linear_model import RidgeClassifierCV\n",
    "from sktime.transformations.panel.rocket import MiniRocket\n",
    "\n",
    "clf = RidgeClassifierCV(alphas=np.logspace(-3, 3, 10), normalize=True)\n",
    "\n",
    "start_very = time()\n",
    "minirocket = MiniRocket()  # by default, MiniRocket uses ~10,000 kernels\n",
    "minirocket.fit(X_train)\n",
    "print('Time to fit MiniROCKET: ', time() - start_very)\n",
    "start = time()\n",
    "X_train_transform = minirocket.transform(X_train)\n",
    "print('Time to transform X_train: ', time() - start)\n",
    "start = time()\n",
    "X_test_transform = minirocket.transform(X_test)\n",
    "print('Time to transform X_test: ', time() - start)\n",
    "\n",
    "\n",
    "start = time()\n",
    "clf.fit(X_train_transform, y_train)\n",
    "print('Time to fit classifier: ', time() - start)\n",
    "\n",
    "y_pred = clf.predict(X_test_transform)\n",
    "\n",
    "print('Total time: ', time() - start_very)"
   ]
  },
  {
   "cell_type": "code",
   "execution_count": 26,
   "metadata": {},
   "outputs": [],
   "source": [
    "from sklearn import preprocessing\n",
    "from matplotlib.font_manager import FontProperties\n",
    "import matplotlib\n",
    "import matplotlib.pyplot as plt\n",
    "colors = ['#F94144', '#F3722C', '#F8961E', '#F9844A', '#F9C74F', '#90BE6D', '#43AA8B', '#4D908E', '#577590', '#277DA1']\n",
    "font = FontProperties(fname = module_path + '/src/visualization/CharterRegular.ttf', size = 10, weight = 1000)\n",
    "font_small = FontProperties(fname = module_path + '/src/visualization/CharterRegular.ttf', size = 8, weight = 1000)\n",
    "\n",
    "\n",
    "le = preprocessing.LabelEncoder()\n",
    "le.fit(y_test)\n",
    "y_test_ = le.transform(y_test)\n",
    "y_pred_ = le.transform(y_pred)\n",
    "\n",
    "fpr, tpr, thresholds = metrics.roc_curve(y_test_, y_pred_)"
   ]
  },
  {
   "cell_type": "code",
   "execution_count": 27,
   "metadata": {},
   "outputs": [
    {
     "data": {
      "image/png": "[encoded data removed]",
      "text/plain": [
       "<Figure size 216x144 with 1 Axes>"
      ]
     },
     "metadata": {
      "needs_background": "light"
     },
     "output_type": "display_data"
    }
   ],
   "source": [
    "f, ax = plt.subplots(1,1) # 1 x 1 array , can also be any other size\n",
    "f.set_size_inches(3, 2)\n",
    "\n",
    "ax.plot(fpr, tpr, c = colors[7], linewidth = 1.5)\n",
    "\n",
    "ax.set_ylabel('TPR', fontproperties = font)\n",
    "ax.set_xlabel('FPR', fontproperties = font)\n",
    "\n",
    "\n",
    "for label in ax.get_yticklabels() :\n",
    "    label.set_fontproperties(font_small)\n",
    "for label in ax.get_xticklabels() :\n",
    "    label.set_fontproperties(font_small)\n",
    "    \n",
    "for child in ax.get_children():\n",
    "    if isinstance(child, matplotlib.spines.Spine):\n",
    "        child.set_linewidth(0.5)"
   ]
  },
  {
   "cell_type": "code",
   "execution_count": 12,
   "metadata": {},
   "outputs": [
    {
     "name": "stdout",
     "output_type": "stream",
     "text": [
      "              precision    recall  f1-score   support\n",
      "\n",
      "     crackle       0.62      0.62      0.62       111\n",
      "      normal       0.50      0.54      0.52       105\n",
      "      wheeze       0.60      0.55      0.58       128\n",
      "\n",
      "    accuracy                           0.57       344\n",
      "   macro avg       0.57      0.57      0.57       344\n",
      "weighted avg       0.58      0.57      0.57       344\n",
      "\n"
     ]
    },
    {
     "data": {
      "image/png": "[encoded data removed]",
      "text/plain": [
       "<Figure size 216x216 with 2 Axes>"
      ]
     },
     "metadata": {
      "needs_background": "light"
     },
     "output_type": "display_data"
    }
   ],
   "source": [
    "figure_path = module_path + '/figures/small_segment_dataset_plots/'\n",
    "\n",
    "f, ax = utility.plot_cm(y_test, y_pred, module_path = module_path, class_names = labels, color_index = 8)\n",
    "\n",
    "f.savefig(figure_path + f'cm_miniROCKET_{n_classes}class.pdf', bbox_inches='tight')\n",
    "\n",
    "\n",
    "print(classification_report(y_test, y_pred))"
   ]
  }
 ],
 "metadata": {
  "kernelspec": {
   "display_name": "Python 3",
   "language": "python",
   "name": "python3"
  },
  "language_info": {
   "codemirror_mode": {
    "name": "ipython",
    "version": 3
   },
   "file_extension": ".py",
   "mimetype": "text/x-python",
   "name": "python",
   "nbconvert_exporter": "python",
   "pygments_lexer": "ipython3",
   "version": "3.7.0"
  }
 },
 "nbformat": 4,
 "nbformat_minor": 5
}
