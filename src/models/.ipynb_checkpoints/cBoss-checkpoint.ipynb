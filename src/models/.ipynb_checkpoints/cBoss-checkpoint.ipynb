{
 "cells": [
  {
   "cell_type": "markdown",
   "metadata": {},
   "source": [
    "https://medium.com/@Rehan_Sayyad/how-to-use-convolutional-neural-networks-for-time-series-classification-80575131a474\n",
    "\n",
    "https://machinelearningmastery.com/cnn-models-for-human-activity-recognition-time-series-classification/"
   ]
  },
  {
   "cell_type": "code",
   "execution_count": 4,
   "metadata": {},
   "outputs": [],
   "source": [
    "import sys\n",
    "import os\n",
    "import pandas as pd\n",
    "import numpy as np\n",
    "\n",
    "module_path = os.path.abspath(os.path.join('../..'))\n",
    "\n",
    "sys.path.insert(1, module_path + '/src/utils')\n",
    "import utility\n",
    "import helper_dim_red\n",
    "\n",
    "from sktime.utils.data_io import load_from_tsfile_to_dataframe\n",
    "from sktime.utils.data_processing import from_nested_to_2d_array\n",
    "import matplotlib.pyplot as plt\n",
    "from sklearn import preprocessing\n",
    "import keras.utils as np_utils\n",
    "from sktime.classification.dictionary_based import ContractableBOSS\n",
    "import pickle\n",
    "\n",
    "from sklearn.metrics import classification_report\n",
    "from time import time\n",
    "\n",
    "figure_path = module_path + '/figures/'"
   ]
  },
  {
   "cell_type": "code",
   "execution_count": 6,
   "metadata": {},
   "outputs": [
    {
     "name": "stdout",
     "output_type": "stream",
     "text": [
      "['crackle' 'normal' 'wheeze'] [438 418 431]\n"
     ]
    }
   ],
   "source": [
    "X_train, y_train = load_from_tsfile_to_dataframe(module_path + '/data/ts_files/minimal_dataset_3class_TRAIN.ts')\n",
    "X_test, y_test = load_from_tsfile_to_dataframe(module_path + '/data/ts_files/minimal_dataset_3class_TEST.ts')\n",
    "X_val, y_val = load_from_tsfile_to_dataframe(module_path + '/data/ts_files/minimal_dataset_3class_VAL.ts')\n",
    "\n",
    "\n",
    "labels, counts = np.unique(y_train, return_counts=True)\n",
    "print(labels, counts)"
   ]
  },
  {
   "cell_type": "code",
   "execution_count": 7,
   "metadata": {},
   "outputs": [
    {
     "name": "stdout",
     "output_type": "stream",
     "text": [
      "Time utilized = 3323.5873975753784\n"
     ]
    }
   ],
   "source": [
    "start = time()\n",
    "\n",
    "cboss = ContractableBOSS(\n",
    "    n_parameter_samples=50, max_ensemble_size=10, random_state=0\n",
    ")\n",
    "cboss.fit(X_train, y_train)\n",
    "\n",
    "y_pred = cboss.predict(X_test)\n",
    "\n",
    "print(f'Time utilized = {time() - start}')"
   ]
  },
  {
   "cell_type": "code",
   "execution_count": 10,
   "metadata": {
    "scrolled": true
   },
   "outputs": [
    {
     "name": "stdout",
     "output_type": "stream",
     "text": [
      "              precision    recall  f1-score   support\n",
      "\n",
      "     crackle       0.47      0.57      0.51       111\n",
      "      normal       0.41      0.44      0.42       105\n",
      "      wheeze       0.44      0.34      0.38       128\n",
      "\n",
      "    accuracy                           0.44       344\n",
      "   macro avg       0.44      0.45      0.44       344\n",
      "weighted avg       0.44      0.44      0.44       344\n",
      "\n"
     ]
    },
    {
     "data": {
      "image/png": "[encoded data removed]",
      "text/plain": [
       "<Figure size 216x216 with 2 Axes>"
      ]
     },
     "metadata": {
      "needs_background": "light"
     },
     "output_type": "display_data"
    }
   ],
   "source": [
    "figure_path = module_path + '/figures/small_segment_dataset_plots/'\n",
    "\n",
    "f, ax = utility.plot_cm(y_test, y_pred, module_path = module_path, class_names = labels, color_index = 4)\n",
    "\n",
    "f.savefig(figure_path + f'cm_simpleCBOSS_3class.pdf', bbox_inches='tight')\n",
    "\n",
    "\n",
    "print(classification_report(y_test, y_pred))"
   ]
  },
  {
   "cell_type": "markdown",
   "metadata": {},
   "source": [
    "## 2 classes"
   ]
  },
  {
   "cell_type": "code",
   "execution_count": 11,
   "metadata": {},
   "outputs": [
    {
     "name": "stdout",
     "output_type": "stream",
     "text": [
      "['crackle' 'wheeze'] [426 441]\n"
     ]
    }
   ],
   "source": [
    "X_train, y_train = load_from_tsfile_to_dataframe(module_path + '/data/ts_files/minimal_dataset_2class_TRAIN.ts')\n",
    "X_test, y_test = load_from_tsfile_to_dataframe(module_path + '/data/ts_files/minimal_dataset_2class_TEST.ts')\n",
    "X_val, y_val = load_from_tsfile_to_dataframe(module_path + '/data/ts_files/minimal_dataset_2class_VAL.ts')\n",
    "\n",
    "\n",
    "labels, counts = np.unique(y_train, return_counts=True)\n",
    "print(labels, counts)"
   ]
  },
  {
   "cell_type": "code",
   "execution_count": 12,
   "metadata": {},
   "outputs": [
    {
     "name": "stdout",
     "output_type": "stream",
     "text": [
      "Time utilized = 1705.2695558071136\n"
     ]
    }
   ],
   "source": [
    "start = time()\n",
    "\n",
    "cboss = ContractableBOSS(\n",
    "    n_parameter_samples=50, max_ensemble_size=10, random_state=0\n",
    ")\n",
    "cboss.fit(X_train, y_train)\n",
    "\n",
    "y_pred = cboss.predict(X_test)\n",
    "\n",
    "print(f'Time utilized = {time() - start}')"
   ]
  },
  {
   "cell_type": "code",
   "execution_count": 13,
   "metadata": {
    "scrolled": true
   },
   "outputs": [
    {
     "name": "stdout",
     "output_type": "stream",
     "text": [
      "              precision    recall  f1-score   support\n",
      "\n",
      "     crackle       0.66      0.68      0.67       123\n",
      "      wheeze       0.65      0.62      0.63       114\n",
      "\n",
      "    accuracy                           0.65       237\n",
      "   macro avg       0.65      0.65      0.65       237\n",
      "weighted avg       0.65      0.65      0.65       237\n",
      "\n"
     ]
    },
    {
     "data": {
      "image/png": "[encoded data removed]",
      "text/plain": [
       "<Figure size 216x216 with 2 Axes>"
      ]
     },
     "metadata": {
      "needs_background": "light"
     },
     "output_type": "display_data"
    }
   ],
   "source": [
    "figure_path = module_path + '/figures/small_segment_dataset_plots/'\n",
    "\n",
    "f, ax = utility.plot_cm(y_test, y_pred, module_path = module_path, class_names = labels, color_index = 4)\n",
    "\n",
    "f.savefig(figure_path + f'cm_simpleCBOSS_2class.pdf', bbox_inches='tight')\n",
    "\n",
    "\n",
    "print(classification_report(y_test, y_pred))"
   ]
  }
 ],
 "metadata": {
  "kernelspec": {
   "display_name": "Python 3",
   "language": "python",
   "name": "python3"
  },
  "language_info": {
   "codemirror_mode": {
    "name": "ipython",
    "version": 3
   },
   "file_extension": ".py",
   "mimetype": "text/x-python",
   "name": "python",
   "nbconvert_exporter": "python",
   "pygments_lexer": "ipython3",
   "version": "3.7.0"
  }
 },
 "nbformat": 4,
 "nbformat_minor": 5
}
