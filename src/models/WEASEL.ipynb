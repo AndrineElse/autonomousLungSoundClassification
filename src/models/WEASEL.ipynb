{
 "cells": [
  {
   "cell_type": "markdown",
   "metadata": {},
   "source": [
    "https://medium.com/@Rehan_Sayyad/how-to-use-convolutional-neural-networks-for-time-series-classification-80575131a474\n",
    "\n",
    "https://machinelearningmastery.com/cnn-models-for-human-activity-recognition-time-series-classification/"
   ]
  },
  {
   "cell_type": "code",
   "execution_count": 9,
   "metadata": {},
   "outputs": [],
   "source": [
    "import sys\n",
    "import os\n",
    "import pandas as pd\n",
    "import numpy as np\n",
    "\n",
    "module_path = os.path.abspath(os.path.join('../..'))\n",
    "\n",
    "sys.path.insert(1, module_path + '/src')\n",
    "import audio_time_series_classification as preproject\n",
    "import utility\n",
    "\n",
    "sys.path.insert(1, module_path + '/src/models/')\n",
    "import helper\n",
    "\n",
    "from sktime.utils.data_io import load_from_tsfile_to_dataframe\n",
    "from sktime.utils.data_processing import from_nested_to_2d_array\n",
    "from sklearn.metrics import classification_report\n",
    "import matplotlib.pyplot as plt\n",
    "from sklearn import preprocessing\n",
    "import keras.utils as np_utils\n",
    "from sktime.classification.dictionary_based import WEASEL\n",
    "import pickle\n",
    "from time import time\n",
    "\n",
    "figure_path = module_path + '/figures/'"
   ]
  },
  {
   "cell_type": "code",
   "execution_count": 6,
   "metadata": {},
   "outputs": [
    {
     "name": "stdout",
     "output_type": "stream",
     "text": [
      "['crackle' 'normal' 'wheeze'] [438 418 431]\n"
     ]
    }
   ],
   "source": [
    "X_train, y_train = load_from_tsfile_to_dataframe(module_path + '/data/ts_files/minimal_dataset_3class_TRAIN.ts')\n",
    "X_test, y_test = load_from_tsfile_to_dataframe(module_path + '/data/ts_files/minimal_dataset_3class_TEST.ts')\n",
    "X_val, y_val = load_from_tsfile_to_dataframe(module_path + '/data/ts_files/minimal_dataset_3class_VAL.ts')\n",
    "\n",
    "\n",
    "labels, counts = np.unique(y_train, return_counts=True)\n",
    "print(labels, counts)"
   ]
  },
  {
   "cell_type": "code",
   "execution_count": 7,
   "metadata": {},
   "outputs": [
    {
     "name": "stdout",
     "output_type": "stream",
     "text": [
      "Time utilized = 3827.925199508667\n"
     ]
    }
   ],
   "source": [
    "start = time()\n",
    "\n",
    "weasel = WEASEL(random_state=1, binning_strategy=\"equi-depth\")\n",
    "weasel.fit(X_train, y_train)\n",
    "\n",
    "\n",
    "y_pred = weasel.predict(X_test)\n",
    "\n",
    "print(f'Time utilized = {time() - start}')"
   ]
  },
  {
   "cell_type": "code",
   "execution_count": 10,
   "metadata": {
    "scrolled": true
   },
   "outputs": [
    {
     "name": "stdout",
     "output_type": "stream",
     "text": [
      "              precision    recall  f1-score   support\n",
      "\n",
      "     crackle       0.67      0.77      0.72       111\n",
      "      normal       0.49      0.49      0.49       105\n",
      "      wheeze       0.66      0.57      0.61       128\n",
      "\n",
      "    accuracy                           0.61       344\n",
      "   macro avg       0.60      0.61      0.61       344\n",
      "weighted avg       0.61      0.61      0.61       344\n",
      "\n"
     ]
    },
    {
     "data": {
      "image/png": "[encoded data removed]",
      "text/plain": [
       "<Figure size 216x216 with 2 Axes>"
      ]
     },
     "metadata": {
      "needs_background": "light"
     },
     "output_type": "display_data"
    }
   ],
   "source": [
    "figure_path = module_path + '/figures/small_segment_dataset_plots/'\n",
    "\n",
    "f, ax = utility.plot_cm(y_test, y_pred, module_path = module_path, class_names = labels, color_index = 7)\n",
    "\n",
    "f.savefig(figure_path + f'cm_simpleWEASEL_3class.pdf', bbox_inches='tight')\n",
    "\n",
    "\n",
    "print(classification_report(y_test, y_pred))"
   ]
  },
  {
   "cell_type": "markdown",
   "metadata": {},
   "source": [
    "## 2 class problem"
   ]
  },
  {
   "cell_type": "code",
   "execution_count": 11,
   "metadata": {},
   "outputs": [
    {
     "name": "stdout",
     "output_type": "stream",
     "text": [
      "['crackle' 'wheeze'] [426 441]\n"
     ]
    }
   ],
   "source": [
    "X_train, y_train = load_from_tsfile_to_dataframe(module_path + '/data/ts_files/minimal_dataset_2class_TRAIN.ts')\n",
    "X_test, y_test = load_from_tsfile_to_dataframe(module_path + '/data/ts_files/minimal_dataset_2class_TEST.ts')\n",
    "X_val, y_val = load_from_tsfile_to_dataframe(module_path + '/data/ts_files/minimal_dataset_2class_VAL.ts')\n",
    "\n",
    "\n",
    "labels, counts = np.unique(y_train, return_counts=True)\n",
    "print(labels, counts)"
   ]
  },
  {
   "cell_type": "code",
   "execution_count": 12,
   "metadata": {},
   "outputs": [
    {
     "name": "stdout",
     "output_type": "stream",
     "text": [
      "Time utilized = 1359.44549202919\n"
     ]
    }
   ],
   "source": [
    "start = time()\n",
    "\n",
    "weasel = WEASEL(random_state=1, binning_strategy=\"equi-depth\")\n",
    "weasel.fit(X_train, y_train)\n",
    "\n",
    "\n",
    "y_pred = weasel.predict(X_test)\n",
    "\n",
    "print(f'Time utilized = {time() - start}')"
   ]
  },
  {
   "cell_type": "code",
   "execution_count": 13,
   "metadata": {
    "scrolled": true
   },
   "outputs": [
    {
     "name": "stdout",
     "output_type": "stream",
     "text": [
      "              precision    recall  f1-score   support\n",
      "\n",
      "     crackle       0.86      0.83      0.84       123\n",
      "      wheeze       0.82      0.85      0.84       114\n",
      "\n",
      "    accuracy                           0.84       237\n",
      "   macro avg       0.84      0.84      0.84       237\n",
      "weighted avg       0.84      0.84      0.84       237\n",
      "\n"
     ]
    },
    {
     "data": {
      "image/png": "[encoded data removed]",
      "text/plain": [
       "<Figure size 216x216 with 2 Axes>"
      ]
     },
     "metadata": {
      "needs_background": "light"
     },
     "output_type": "display_data"
    }
   ],
   "source": [
    "figure_path = module_path + '/figures/small_segment_dataset_plots/'\n",
    "\n",
    "f, ax = utility.plot_cm(y_test, y_pred, module_path = module_path, class_names = labels, color_index = 7)\n",
    "\n",
    "f.savefig(figure_path + f'cm_simpleWEASEL_2class.pdf', bbox_inches='tight')\n",
    "\n",
    "\n",
    "print(classification_report(y_test, y_pred))"
   ]
  }
 ],
 "metadata": {
  "kernelspec": {
   "display_name": "Python 3",
   "language": "python",
   "name": "python3"
  },
  "language_info": {
   "codemirror_mode": {
    "name": "ipython",
    "version": 3
   },
   "file_extension": ".py",
   "mimetype": "text/x-python",
   "name": "python",
   "nbconvert_exporter": "python",
   "pygments_lexer": "ipython3",
   "version": "3.7.0"
  }
 },
 "nbformat": 4,
 "nbformat_minor": 5
}
