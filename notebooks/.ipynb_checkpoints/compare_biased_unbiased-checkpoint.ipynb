{
 "cells": [
  {
   "cell_type": "code",
   "execution_count": 7,
   "metadata": {},
   "outputs": [],
   "source": [
    "import sys\n",
    "import os\n",
    "import pandas as pd\n",
    "import numpy as np\n",
    "\n",
    "module_path = os.path.abspath(os.path.join('..'))\n",
    "\n",
    "sys.path.insert(1, module_path + '/src/utils/')\n",
    "import utility\n",
    "\n",
    "sys.path.insert(1, module_path + '/src/utils/')\n",
    "import helper_dim_red\n",
    "\n",
    "from sktime.utils.data_io import load_from_tsfile_to_dataframe\n",
    "\n",
    "from sktime.utils.data_processing import from_nested_to_2d_array\n",
    "from sklearn.model_selection import train_test_split\n",
    "\n",
    "import matplotlib.pyplot as plt\n",
    "from sklearn.cross_decomposition import PLSRegression\n",
    "\n",
    "from sklearn.preprocessing import MinMaxScaler\n",
    "\n",
    "from sklearn.ensemble import RandomForestClassifier\n",
    "from sklearn.utils import shuffle\n",
    "\n",
    "figure_path = module_path + '/figures/'\n",
    "classes = ['normal', 'crackle', 'wheeze']\n",
    "#classes = ['normal', 'crackle']"
   ]
  },
  {
   "cell_type": "markdown",
   "metadata": {},
   "source": [
    "# Biased dataset"
   ]
  },
  {
   "cell_type": "markdown",
   "metadata": {},
   "source": [
    "### Kaggle"
   ]
  },
  {
   "cell_type": "code",
   "execution_count": 33,
   "metadata": {},
   "outputs": [
    {
     "data": {
      "image/png": "[encoded data removed]",
      "text/plain": [
       "<Figure size 216x216 with 2 Axes>"
      ]
     },
     "metadata": {
      "needs_background": "light"
     },
     "output_type": "display_data"
    }
   ],
   "source": [
    "X_, y_ = load_from_tsfile_to_dataframe(module_path + '/data/ts_files/kaggle.ts')\n",
    "\n",
    "X_ = from_nested_to_2d_array(X_)\n",
    "y_ = pd.Series(y_)\n",
    "\n",
    "min_balancing = min(list(y_.value_counts()))\n",
    "\n",
    "indices = {\n",
    "    'normal' : np.where(y_ == 'normal')[0][:min_balancing], \n",
    "    'wheeze' : np.where(y_ == 'wheeze')[0][:min_balancing],\n",
    "    'crackle' : np.where(y_ == 'crackle')[0][:min_balancing]\n",
    "}\n",
    "\n",
    "indices_ = np.concatenate([indices[c] for c in classes])\n",
    "X_ = X_.iloc[indices_]\n",
    "y_ = y_.iloc[indices_]\n",
    "\n",
    "\n",
    "kwargs = dict(test_size=0.2, random_state=1)\n",
    "X_train_, X_test_, y_train_, y_test_ = train_test_split(X_, y_, **kwargs)\n",
    "\n",
    "scaler = MinMaxScaler()\n",
    "scaler.fit(X_train_)\n",
    "X_train_ = pd.DataFrame(scaler.transform(X_train_))  \n",
    "X_test_ = pd.DataFrame(scaler.transform(X_test_)) \n",
    "\n",
    "class_names =  list(pd.factorize(y_train_)[1])\n",
    "\n",
    "\n",
    "clf = RandomForestClassifier(criterion='entropy', max_depth=8, n_estimators=500,\n",
    "                       random_state=42).fit(X_train_ , y_train_)\n",
    "\n",
    "y_pred = clf.predict(X_test_)\n",
    "\n",
    "f, ax = utility.plot_cm(y_test_ , y_pred, module_path = module_path, class_names = class_names)\n",
    "\n",
    "f.savefig(figure_path + f'biased_vs_unbiased/cm_kaggle_biased.pdf', bbox_inches='tight')"
   ]
  },
  {
   "cell_type": "markdown",
   "metadata": {},
   "source": [
    "### UIT"
   ]
  },
  {
   "cell_type": "code",
   "execution_count": 32,
   "metadata": {},
   "outputs": [
    {
     "data": {
      "image/png": "[encoded data removed]",
      "text/plain": [
       "<Figure size 216x216 with 2 Axes>"
      ]
     },
     "metadata": {
      "needs_background": "light"
     },
     "output_type": "display_data"
    }
   ],
   "source": [
    "X, y = load_from_tsfile_to_dataframe(module_path + f'/data/ts_files/UiTdataset_5s.ts')\n",
    "\n",
    "X = from_nested_to_2d_array(X)\n",
    "y = pd.Series(y)\n",
    "\n",
    "min_balancing = min(list(y.value_counts()))\n",
    "\n",
    "indices = {\n",
    "    'normal' : np.where(y == 'normal')[0][:min_balancing], \n",
    "    'wheeze' : np.where(y == 'wheeze')[0][:min_balancing],\n",
    "    'crackle' : np.where(y == 'crackle')[0][:min_balancing]\n",
    "}\n",
    "\n",
    "indices = np.concatenate([indices[c] for c in classes])\n",
    "X = X.iloc[indices]\n",
    "y = y.iloc[indices]\n",
    "\n",
    "kwargs = dict(test_size=0.2, random_state=42)\n",
    "X_train, X_test, y_train, y_test = train_test_split(X, y, **kwargs)\n",
    "\n",
    "scaler = MinMaxScaler()\n",
    "scaler.fit(X_train)\n",
    "X_train = pd.DataFrame(scaler.transform(X_train))  \n",
    "X_test = pd.DataFrame(scaler.transform(X_test)) \n",
    "\n",
    "class_names =  list(pd.factorize(y_train)[1])\n",
    "clf = RandomForestClassifier(criterion='entropy', max_depth=8, n_estimators=500,\n",
    "                       random_state=42).fit(X_train , y_train)\n",
    "\n",
    "y_pred = clf.predict(X_test)\n",
    "\n",
    "f, ax = utility.plot_cm(y_test , y_pred, module_path = module_path, class_names = class_names)\n",
    "\n",
    "f.savefig(figure_path + f'biased_vs_unbiased/cm_uit_biased.pdf', bbox_inches='tight')"
   ]
  },
  {
   "cell_type": "markdown",
   "metadata": {},
   "source": [
    "# Unbiased dataset"
   ]
  },
  {
   "cell_type": "markdown",
   "metadata": {},
   "source": [
    "### Kaggle"
   ]
  },
  {
   "cell_type": "code",
   "execution_count": 36,
   "metadata": {},
   "outputs": [],
   "source": [
    "X_train_, y_train_ = load_from_tsfile_to_dataframe(module_path + f'/data/ts_files/kaggle_TRAIN.ts')\n",
    "X_test_, y_test_ = load_from_tsfile_to_dataframe(module_path + f'/data/ts_files/kaggle_TEST.ts')\n",
    "X_val_, y_val_ = load_from_tsfile_to_dataframe(module_path + f'/data/ts_files/kaggle_VAL.ts')\n",
    "\n",
    "X_train_, X_test_, X_val_ = from_nested_to_2d_array(X_train_), from_nested_to_2d_array(X_test_), from_nested_to_2d_array(X_val_)\n",
    "\n",
    "cols = np.arange(len(X_test_.columns))\n",
    "X_train_.columns, X_test_.columns, X_val_.columns = cols, cols, cols\n",
    "\n",
    "y_train_, y_test_, y_val_ = pd.Series(y_train_), pd.Series(y_test_), pd.Series(y_val_)\n",
    "\n",
    "\n",
    "scaler = MinMaxScaler() \n",
    "scaler.fit(X_train_)\n",
    "X_train_ = pd.DataFrame(scaler.transform(X_train_)) \n",
    "X_val_ = pd.DataFrame(scaler.transform(X_val_)) \n",
    "X_test_ = pd.DataFrame(scaler.transform(X_test_))\n",
    "\n",
    "\n",
    "def get_indices_targets_kaggle(y_train_, y_test_, y_val_, classes = ['crackle', 'wheeze', 'normal']):\n",
    "    # Balance dataset\n",
    "    min_balance = min(list(y_train_.value_counts()))\n",
    "\n",
    "    # Select classes\n",
    "    indices = {\n",
    "        'normal' : np.where(y_train_ == 'normal')[0][:min_balance],\n",
    "        'wheeze' : np.where(y_train_ == 'wheeze')[0][:min_balance],\n",
    "        'crackle': np.where(y_train_ == 'crackle')[0][:min_balance]\n",
    "    }\n",
    "    indices_train = np.concatenate([indices[c] for c in classes])\n",
    "    \n",
    "    \n",
    "    indices = {\n",
    "        'normal' : np.where(y_test_ == 'normal')[0], \n",
    "        'wheeze' : np.where(y_test_ == 'wheeze')[0],\n",
    "        'crackle' : np.where(y_test_ == 'crackle')[0]\n",
    "    }\n",
    "    indices_test = np.concatenate([indices[c] for c in classes])\n",
    "    \n",
    "    \n",
    "    indices = {\n",
    "        'normal' : np.where(y_val_ == 'normal')[0], \n",
    "        'wheeze' : np.where(y_val_ == 'wheeze')[0],\n",
    "        'crackle' : np.where(y_val_ == 'crackle')[0]\n",
    "    }\n",
    "    indices_val = np.concatenate([indices[c] for c in classes])\n",
    "    \n",
    "    \n",
    "    y_train = y_train_[indices_train]\n",
    "    y_test = y_test_[indices_test]\n",
    "    y_val = y_val_[indices_val]\n",
    "    \n",
    "    return indices_train, indices_test, indices_val, y_train, y_test, y_val\n",
    "\n",
    "indices_train_, indices_test_, indices_val_, y_train_, y_test_, y_val_ = get_indices_targets_kaggle(y_train_,\n",
    "                                                                                       y_test_, y_val_,\n",
    "                                                                                       classes = classes)"
   ]
  },
  {
   "cell_type": "code",
   "execution_count": 37,
   "metadata": {},
   "outputs": [
    {
     "data": {
      "image/png": "[encoded data removed]",
      "text/plain": [
       "<Figure size 216x216 with 2 Axes>"
      ]
     },
     "metadata": {
      "needs_background": "light"
     },
     "output_type": "display_data"
    }
   ],
   "source": [
    "class_names =  list(pd.factorize(y_train_)[1])\n",
    "\n",
    "clf = RandomForestClassifier(criterion='entropy', max_depth=8, n_estimators=500,\n",
    "                       random_state=42)\n",
    "\n",
    "clf.fit(X_train_.iloc[indices_train_] , y_train_)\n",
    "y_pred = clf.predict(X_val_.iloc[indices_val_])\n",
    "\n",
    "f, ax = utility.plot_cm(y_val_, y_pred, module_path = module_path, class_names = class_names)\n",
    "\n",
    "\n",
    "f.savefig(figure_path + f'biased_vs_unbiased/cm_kaggle_unbiased.pdf', bbox_inches='tight')"
   ]
  },
  {
   "cell_type": "markdown",
   "metadata": {},
   "source": [
    "### UIT"
   ]
  },
  {
   "cell_type": "code",
   "execution_count": 34,
   "metadata": {},
   "outputs": [],
   "source": [
    "X_train, y_train_o = load_from_tsfile_to_dataframe(module_path + f'/data/ts_files/UiT_allLabels_5s_TRAIN.ts')\n",
    "X_test, y_test_o = load_from_tsfile_to_dataframe(module_path + f'/data/ts_files/UiT_allLabels_5s_TEST.ts')\n",
    "X_val, y_val_o = load_from_tsfile_to_dataframe(module_path + f'/data/ts_files/UiT_allLabels_5s_VAL.ts')\n",
    "X_train, y_train_o = shuffle(X_train, y_train_o, random_state = 42)\n",
    "\n",
    "\n",
    "X_train, X_test, X_val = from_nested_to_2d_array(X_train), from_nested_to_2d_array(X_test), from_nested_to_2d_array(X_val)\n",
    "\n",
    "cols = np.arange(len(X_test.columns))\n",
    "X_train.columns, X_test.columns, X_val.columns = cols, cols, cols\n",
    "\n",
    "y_train_o, y_test_o, y_val_o = pd.Series(y_train_o), pd.Series(y_test_o), pd.Series(y_val_o)\n",
    "\n",
    "scaler = MinMaxScaler()\n",
    "scaler.fit(X_train)\n",
    "X_train = pd.DataFrame(scaler.transform(X_train)) \n",
    "X_val = pd.DataFrame(scaler.transform(X_val)) \n",
    "X_test = pd.DataFrame(scaler.transform(X_test)) \n",
    "\n",
    "def get_indices_targets(y_train_o, y_test_o, y_val_o, classes = ['crackle', 'wheeze', 'normal']):\n",
    "    # Go from 5 to 3 classes\n",
    "    y_train_new = y_train_o.copy(deep = True)\n",
    "    \n",
    "    y_train_new[y_train_new == 'exp_wheeze'] = 'wheeze'\n",
    "    y_train_new[y_train_new == 'insp_wheeze'] = 'wheeze'\n",
    "    y_train_new[y_train_new == 'exp_crackle'] = 'crackle'\n",
    "    y_train_new[y_train_new == 'insp_crackle'] = 'crackle'\n",
    "\n",
    "    y_test_new = y_test_o.copy(deep = True)\n",
    "\n",
    "    y_test_new[y_test_new == 'exp_wheeze'] = 'wheeze'\n",
    "    y_test_new[y_test_new == 'insp_wheeze'] = 'wheeze'\n",
    "    y_test_new[y_test_new == 'exp_crackle'] = 'crackle'\n",
    "    y_test_new[y_test_new == 'insp_crackle'] = 'crackle'\n",
    "\n",
    "    y_val_new = y_val_o.copy(deep = True)\n",
    "\n",
    "    y_val_new[y_val_new == 'exp_wheeze'] = 'wheeze'\n",
    "    y_val_new[y_val_new == 'insp_wheeze'] = 'wheeze'\n",
    "    y_val_new[y_val_new == 'exp_crackle'] = 'crackle'\n",
    "    y_val_new[y_val_new == 'insp_crackle'] = 'crackle'\n",
    "    \n",
    "    # Balance dataset\n",
    "    min_balance = min(list(y_train_new.value_counts()))\n",
    "\n",
    "    # Select classes\n",
    "    indices = {\n",
    "        'normal' : np.where(y_train_new == 'normal')[0][:min_balance],\n",
    "        'wheeze' : np.where(y_train_new == 'wheeze')[0][:min_balance],\n",
    "        'crackle': np.where(y_train_new == 'crackle')[0][:min_balance]\n",
    "    }\n",
    "    indices_train = np.concatenate([indices[c] for c in classes])\n",
    "    \n",
    "    \n",
    "    indices = {\n",
    "        'normal' : np.where(y_test_new == 'normal')[0], \n",
    "        'wheeze' : np.where(y_test_new == 'wheeze')[0],\n",
    "        'crackle' : np.where(y_test_new == 'crackle')[0]\n",
    "    }\n",
    "    indices_test = np.concatenate([indices[c] for c in classes])\n",
    "    \n",
    "    \n",
    "    indices = {\n",
    "        'normal' : np.where(y_val_new == 'normal')[0], \n",
    "        'wheeze' : np.where(y_val_new == 'wheeze')[0],\n",
    "        'crackle' : np.where(y_val_new == 'crackle')[0]\n",
    "    }\n",
    "    indices_val = np.concatenate([indices[c] for c in classes])\n",
    "    \n",
    "    \n",
    "    y_train = y_train_new[indices_train]\n",
    "    y_test = y_test_new[indices_test]\n",
    "    y_val = y_val_new[indices_val]\n",
    "    \n",
    "    return indices_train, indices_test, indices_val, y_train, y_test, y_val\n",
    "\n",
    "indices_train, indices_test, indices_val, y_train, y_test, y_val = get_indices_targets(y_train_o,\n",
    "                                                                                       y_test_o, y_val_o,\n",
    "                                                                                       classes = classes)"
   ]
  },
  {
   "cell_type": "code",
   "execution_count": 35,
   "metadata": {},
   "outputs": [
    {
     "data": {
      "image/png": "[encoded data removed]",
      "text/plain": [
       "<Figure size 216x216 with 2 Axes>"
      ]
     },
     "metadata": {
      "needs_background": "light"
     },
     "output_type": "display_data"
    }
   ],
   "source": [
    "class_names =  list(pd.factorize(y_train)[1])\n",
    "clf = RandomForestClassifier(criterion='entropy', max_depth=8, n_estimators=500,\n",
    "                       random_state=42)\n",
    "\n",
    "\n",
    "clf.fit(X_train.iloc[indices_train] , y_train)\n",
    "y_pred = clf.predict(X_test.iloc[indices_test])\n",
    "\n",
    "f, ax = utility.plot_cm(y_test , y_pred, module_path = module_path, class_names = class_names)\n",
    "\n",
    "f.savefig(figure_path + f'biased_vs_unbiased/cm_uit_unbiased.pdf', bbox_inches='tight')"
   ]
  }
 ],
 "metadata": {
  "kernelspec": {
   "display_name": "Python 3",
   "language": "python",
   "name": "python3"
  },
  "language_info": {
   "codemirror_mode": {
    "name": "ipython",
    "version": 3
   },
   "file_extension": ".py",
   "mimetype": "text/x-python",
   "name": "python",
   "nbconvert_exporter": "python",
   "pygments_lexer": "ipython3",
   "version": "3.7.0"
  }
 },
 "nbformat": 4,
 "nbformat_minor": 4
}
